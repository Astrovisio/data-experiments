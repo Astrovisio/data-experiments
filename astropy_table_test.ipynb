{
 "cells": [
  {
   "cell_type": "code",
   "execution_count": 21,
   "id": "25b882ae",
   "metadata": {},
   "outputs": [],
   "source": [
    "from astropy.io import fits\n",
    "from astropy.table import Table\n",
    "from spectral_cube import SpectralCube\n",
    "import matplotlib.pyplot as plt\n",
    "import pandas as pd\n",
    "import open3d as o3d"
   ]
  },
  {
   "cell_type": "code",
   "execution_count": 15,
   "id": "9aff7dec",
   "metadata": {},
   "outputs": [],
   "source": [
    "path = \".data/reduced_TAN_C14.fits\""
   ]
  },
  {
   "cell_type": "code",
   "execution_count": 16,
   "id": "f0538848",
   "metadata": {},
   "outputs": [],
   "source": [
    "hdul = fits.open(path)\n",
    "table = Table(hdul[0].data)\n"
   ]
  },
  {
   "cell_type": "code",
   "execution_count": 33,
   "id": "7af8106b",
   "metadata": {},
   "outputs": [],
   "source": [
    "output = []\n",
    "\n",
    "for col in table.columns:\n",
    "    df = Table(table[col]).to_pandas()\n",
    "    df.columns = range(len(df.columns))\n",
    "    df_stacked = df.stack().reset_index()\n",
    "    df_stacked.columns = ['y', 'x', 'value']\n",
    "    df_stacked['z'] = int(col.split('col')[1])\n",
    "    output.append(df_stacked)"
   ]
  },
  {
   "cell_type": "code",
   "execution_count": 38,
   "id": "3ebdb825",
   "metadata": {},
   "outputs": [],
   "source": [
    "df = pd.concat(output)[['x', 'y', 'z', 'value']].reset_index(drop=True)"
   ]
  },
  {
   "cell_type": "code",
   "execution_count": 40,
   "id": "ebdccb29",
   "metadata": {},
   "outputs": [
    {
     "data": {
      "application/vnd.microsoft.datawrangler.viewer.v0+json": {
       "columns": [
        {
         "name": "index",
         "rawType": "object",
         "type": "string"
        },
        {
         "name": "x",
         "rawType": "float64",
         "type": "float"
        },
        {
         "name": "y",
         "rawType": "float64",
         "type": "float"
        },
        {
         "name": "z",
         "rawType": "float64",
         "type": "float"
        },
        {
         "name": "value",
         "rawType": "float64",
         "type": "float"
        }
       ],
       "ref": "d3e0816b-2b18-40b0-84e0-55649b8790e8",
       "rows": [
        [
         "count",
         "8572500.0",
         "8572500.0",
         "8572500.0",
         "8572500.0"
        ],
        [
         "mean",
         "74.5",
         "221.0",
         "74.5",
         "0.3512621819972992"
        ],
        [
         "std",
         "43.3003104536172",
         "109.98485385619341",
         "43.3003104536172",
         "2.3288350105285645"
        ],
        [
         "min",
         "0.0",
         "31.0",
         "0.0",
         "-0.4922787547111511"
        ],
        [
         "25%",
         "37.0",
         "126.0",
         "37.0",
         "-0.020676360465586185"
        ],
        [
         "50%",
         "74.5",
         "221.0",
         "74.5",
         "0.00956840580329299"
        ],
        [
         "75%",
         "112.0",
         "316.0",
         "112.0",
         "0.046401845291256905"
        ],
        [
         "max",
         "149.0",
         "411.0",
         "149.0",
         "126.54734802246094"
        ]
       ],
       "shape": {
        "columns": 4,
        "rows": 8
       }
      },
      "text/html": [
       "<div>\n",
       "<style scoped>\n",
       "    .dataframe tbody tr th:only-of-type {\n",
       "        vertical-align: middle;\n",
       "    }\n",
       "\n",
       "    .dataframe tbody tr th {\n",
       "        vertical-align: top;\n",
       "    }\n",
       "\n",
       "    .dataframe thead th {\n",
       "        text-align: right;\n",
       "    }\n",
       "</style>\n",
       "<table border=\"1\" class=\"dataframe\">\n",
       "  <thead>\n",
       "    <tr style=\"text-align: right;\">\n",
       "      <th></th>\n",
       "      <th>x</th>\n",
       "      <th>y</th>\n",
       "      <th>z</th>\n",
       "      <th>value</th>\n",
       "    </tr>\n",
       "  </thead>\n",
       "  <tbody>\n",
       "    <tr>\n",
       "      <th>count</th>\n",
       "      <td>8.572500e+06</td>\n",
       "      <td>8.572500e+06</td>\n",
       "      <td>8.572500e+06</td>\n",
       "      <td>8.572500e+06</td>\n",
       "    </tr>\n",
       "    <tr>\n",
       "      <th>mean</th>\n",
       "      <td>7.450000e+01</td>\n",
       "      <td>2.210000e+02</td>\n",
       "      <td>7.450000e+01</td>\n",
       "      <td>3.512622e-01</td>\n",
       "    </tr>\n",
       "    <tr>\n",
       "      <th>std</th>\n",
       "      <td>4.330031e+01</td>\n",
       "      <td>1.099849e+02</td>\n",
       "      <td>4.330031e+01</td>\n",
       "      <td>2.328835e+00</td>\n",
       "    </tr>\n",
       "    <tr>\n",
       "      <th>min</th>\n",
       "      <td>0.000000e+00</td>\n",
       "      <td>3.100000e+01</td>\n",
       "      <td>0.000000e+00</td>\n",
       "      <td>-4.922788e-01</td>\n",
       "    </tr>\n",
       "    <tr>\n",
       "      <th>25%</th>\n",
       "      <td>3.700000e+01</td>\n",
       "      <td>1.260000e+02</td>\n",
       "      <td>3.700000e+01</td>\n",
       "      <td>-2.067636e-02</td>\n",
       "    </tr>\n",
       "    <tr>\n",
       "      <th>50%</th>\n",
       "      <td>7.450000e+01</td>\n",
       "      <td>2.210000e+02</td>\n",
       "      <td>7.450000e+01</td>\n",
       "      <td>9.568406e-03</td>\n",
       "    </tr>\n",
       "    <tr>\n",
       "      <th>75%</th>\n",
       "      <td>1.120000e+02</td>\n",
       "      <td>3.160000e+02</td>\n",
       "      <td>1.120000e+02</td>\n",
       "      <td>4.640185e-02</td>\n",
       "    </tr>\n",
       "    <tr>\n",
       "      <th>max</th>\n",
       "      <td>1.490000e+02</td>\n",
       "      <td>4.110000e+02</td>\n",
       "      <td>1.490000e+02</td>\n",
       "      <td>1.265473e+02</td>\n",
       "    </tr>\n",
       "  </tbody>\n",
       "</table>\n",
       "</div>"
      ],
      "text/plain": [
       "                  x             y             z         value\n",
       "count  8.572500e+06  8.572500e+06  8.572500e+06  8.572500e+06\n",
       "mean   7.450000e+01  2.210000e+02  7.450000e+01  3.512622e-01\n",
       "std    4.330031e+01  1.099849e+02  4.330031e+01  2.328835e+00\n",
       "min    0.000000e+00  3.100000e+01  0.000000e+00 -4.922788e-01\n",
       "25%    3.700000e+01  1.260000e+02  3.700000e+01 -2.067636e-02\n",
       "50%    7.450000e+01  2.210000e+02  7.450000e+01  9.568406e-03\n",
       "75%    1.120000e+02  3.160000e+02  1.120000e+02  4.640185e-02\n",
       "max    1.490000e+02  4.110000e+02  1.490000e+02  1.265473e+02"
      ]
     },
     "execution_count": 40,
     "metadata": {},
     "output_type": "execute_result"
    }
   ],
   "source": [
    "df.describe()"
   ]
  },
  {
   "cell_type": "code",
   "execution_count": 41,
   "id": "b4694c50",
   "metadata": {},
   "outputs": [],
   "source": [
    "pcd = o3d.geometry.PointCloud()\n",
    "pcd.points = o3d.utility.Vector3dVector(df.iloc[:,:3].values.tolist())\n",
    "volume = df['value'].values\n",
    "volume_normalized = (volume - volume.min()) / (volume.max() - volume.min())\n",
    "colors = plt.cm.plasma(volume)[:, :3]  # Use a colormap (e.g., viridis)\n",
    "pcd.colors = o3d.utility.Vector3dVector(colors)\n",
    "o3d.visualization.draw_geometries([pcd])"
   ]
  }
 ],
 "metadata": {
  "kernelspec": {
   "display_name": "pynbody",
   "language": "python",
   "name": "python3"
  },
  "language_info": {
   "codemirror_mode": {
    "name": "ipython",
    "version": 3
   },
   "file_extension": ".py",
   "mimetype": "text/x-python",
   "name": "python",
   "nbconvert_exporter": "python",
   "pygments_lexer": "ipython3",
   "version": "3.12.3"
  }
 },
 "nbformat": 4,
 "nbformat_minor": 5
}

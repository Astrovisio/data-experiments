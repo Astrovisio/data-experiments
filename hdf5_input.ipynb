{
 "cells": [
  {
   "cell_type": "code",
   "execution_count": 70,
   "metadata": {},
   "outputs": [],
   "source": [
    "import pynbody\n",
    "import pandas as pd"
   ]
  },
  {
   "cell_type": "code",
   "execution_count": 71,
   "metadata": {},
   "outputs": [],
   "source": [
    "path = \".data/372755.hdf5\""
   ]
  },
  {
   "cell_type": "code",
   "execution_count": 72,
   "metadata": {},
   "outputs": [],
   "source": [
    "def pynbody_to_dataframe(path, variables, family=None):\n",
    "    \n",
    "    if family is None:\n",
    "        sim = pynbody.load(path)\n",
    "        sim = getattr(sim, str(sim.families()[0]))\n",
    "\n",
    "    else:\n",
    "        sim = getattr(pynbody.load(path), family)\n",
    "\n",
    "    sim.physical_units()\n",
    "    data = {}\n",
    "\n",
    "    for var in variables:\n",
    "        data[var] = sim[var].astype(float)\n",
    "\n",
    "    df = pd.DataFrame(data)\n",
    "\n",
    "    del sim\n",
    "\n",
    "    return df"
   ]
  },
  {
   "cell_type": "code",
   "execution_count": 73,
   "metadata": {},
   "outputs": [
    {
     "name": "stderr",
     "output_type": "stream",
     "text": [
      "/home/tmassagl/development/pynbody/.venv/lib/python3.12/site-packages/pynbody/snapshot/gadgethdf.py:686: UserWarning: Unable to find cosmological factors in HDF file; assuming position is 3.09e+21 a h**-1\n",
      "  warnings.warn(\"Unable to find cosmological factors in HDF file; assuming position is %s\" % dist_unit)\n",
      "/home/tmassagl/development/pynbody/.venv/lib/python3.12/site-packages/pynbody/snapshot/gadgethdf.py:691: UserWarning: Unable to find cosmological factors in HDF file; assuming velocity is 1.00e+05 a**1/2\n",
      "  warnings.warn(\"Unable to find cosmological factors in HDF file; assuming velocity is %s\" % vel_unit)\n",
      "/home/tmassagl/development/pynbody/.venv/lib/python3.12/site-packages/pynbody/snapshot/gadgethdf.py:449: UserWarning: Masses are either stored in the header or have another dataset name; assuming the cosmological factor h**-1\n",
      "  warnings.warn(\"Masses are either stored in the header or have another dataset name; assuming the cosmological factor %s\" % units.h**-1)\n",
      "/home/tmassagl/development/pynbody/.venv/lib/python3.12/site-packages/pynbody/snapshot/gadgethdf.py:469: UserWarning: Unable to infer units from HDF attributes\n",
      "  warnings.warn(\"Unable to infer units from HDF attributes\")\n"
     ]
    }
   ],
   "source": [
    "vars = [\"x\",\"y\",\"z\"]\n",
    "df = pynbody_to_dataframe(path, vars)"
   ]
  },
  {
   "cell_type": "code",
   "execution_count": 74,
   "metadata": {},
   "outputs": [
    {
     "data": {
      "application/vnd.microsoft.datawrangler.viewer.v0+json": {
       "columns": [
        {
         "name": "index",
         "rawType": "int64",
         "type": "integer"
        },
        {
         "name": "x",
         "rawType": "float64",
         "type": "float"
        },
        {
         "name": "y",
         "rawType": "float64",
         "type": "float"
        },
        {
         "name": "z",
         "rawType": "float64",
         "type": "float"
        }
       ],
       "ref": "a8992c9b-1c1f-4703-b3be-c5364cfbd0a6",
       "rows": [
        [
         "0",
         "51379.166882489306",
         "7615.9824068338075",
         "31945.105788308905"
        ],
        [
         "1",
         "51381.80898850719",
         "7619.676865861985",
         "31944.21640436178"
        ],
        [
         "2",
         "51377.527781686964",
         "7617.1339126316725",
         "31945.52924288767"
        ],
        [
         "3",
         "51373.55462434116",
         "7612.177014280263",
         "31948.510923781985"
        ],
        [
         "4",
         "51374.339728581755",
         "7612.3889504899325",
         "31946.355516298878"
        ],
        [
         "5",
         "51380.122946272655",
         "7618.428309358795",
         "31944.18529928462"
        ],
        [
         "6",
         "51557.65887176814",
         "7634.576213383668",
         "32053.940575876317"
        ],
        [
         "7",
         "51555.42273882303",
         "7636.231222518783",
         "32050.22233673214"
        ],
        [
         "8",
         "51555.53176283216",
         "7634.975448861388",
         "32051.277948329225"
        ],
        [
         "9",
         "51553.51409233456",
         "7633.849963263802",
         "32052.33803270182"
        ],
        [
         "10",
         "51558.688986851485",
         "7630.003729098557",
         "32059.970025693117"
        ],
        [
         "11",
         "51555.04857623593",
         "7634.109072627758",
         "32052.19394115532"
        ],
        [
         "12",
         "51552.28157052128",
         "7636.5242686214715",
         "32052.39347504745"
        ],
        [
         "13",
         "51558.25472748083",
         "7632.332995841551",
         "32056.37085048164"
        ],
        [
         "14",
         "51556.69114425934",
         "7635.246973256587",
         "32051.81478255905"
        ],
        [
         "15",
         "51559.143984822156",
         "7635.643332114548",
         "32054.798080833185"
        ],
        [
         "16",
         "51556.43175211618",
         "7635.557546746837",
         "32051.85392502098"
        ],
        [
         "17",
         "51557.62210727467",
         "7629.486403064375",
         "32058.76106835981"
        ],
        [
         "18",
         "51558.987446460524",
         "7628.55761564913",
         "32061.14195407279"
        ],
        [
         "19",
         "51555.37801723909",
         "7633.126138828647",
         "32054.877640576047"
        ],
        [
         "20",
         "51555.901209893775",
         "7633.432425923789",
         "32053.62528352366"
        ],
        [
         "21",
         "51558.523738008276",
         "7635.303846597847",
         "32055.19638886059"
        ],
        [
         "22",
         "51554.93077912608",
         "7637.750096395017",
         "32053.60027609016"
        ],
        [
         "23",
         "51556.235611413875",
         "7639.0449993648845",
         "32053.814582521518"
        ],
        [
         "24",
         "51555.41921390654",
         "7631.682419574713",
         "32058.048699402614"
        ],
        [
         "25",
         "51555.78162002469",
         "7632.314367373066",
         "32056.631295489657"
        ],
        [
         "26",
         "51556.28749710855",
         "7629.828465658486",
         "32060.429642170453"
        ],
        [
         "27",
         "51558.42842950341",
         "7626.758929377157",
         "32063.342340384068"
        ],
        [
         "28",
         "51553.224356942315",
         "7633.713156312021",
         "32055.711192824874"
        ],
        [
         "29",
         "51551.77447861087",
         "7635.366290942767",
         "32052.114959733903"
        ],
        [
         "30",
         "51557.17081302731",
         "7630.844846656205",
         "32061.213823249356"
        ],
        [
         "31",
         "51376.883149805006",
         "7615.02153331712",
         "31945.856277436662"
        ],
        [
         "32",
         "51551.77061538374",
         "7632.356941252601",
         "32054.867706507528"
        ],
        [
         "33",
         "51557.78691937828",
         "7631.274979212038",
         "32058.217251107988"
        ],
        [
         "34",
         "51553.66143454296",
         "7636.589351113894",
         "32053.107423163605"
        ],
        [
         "35",
         "51556.74556099787",
         "7630.047810792553",
         "32062.236575091243"
        ],
        [
         "36",
         "51378.81669619891",
         "7629.357927697708",
         "31944.658320429793"
        ],
        [
         "37",
         "51554.92575394406",
         "7632.808297789578",
         "32057.122052207847"
        ],
        [
         "38",
         "51556.57977421591",
         "7633.172848257324",
         "32056.673800385845"
        ],
        [
         "39",
         "51555.469642599135",
         "7635.482355334319",
         "32052.674650517292"
        ],
        [
         "40",
         "51558.71622293638",
         "7613.703406378752",
         "32084.46182156048"
        ],
        [
         "41",
         "51552.08952059847",
         "7632.037437750983",
         "32058.179682584974"
        ],
        [
         "42",
         "51561.88924106169",
         "7624.043305373557",
         "32064.961356323147"
        ],
        [
         "43",
         "51557.58687555774",
         "7627.52185885358",
         "32061.62802505125"
        ],
        [
         "44",
         "51559.818494862586",
         "7612.557831998399",
         "32084.378349024617"
        ],
        [
         "45",
         "51557.68418421033",
         "7620.958086294992",
         "32070.06507920795"
        ],
        [
         "46",
         "51554.827504533234",
         "7630.263805403657",
         "32066.747728880466"
        ],
        [
         "47",
         "51553.21496301072",
         "7634.460190052312",
         "32058.48948600899"
        ],
        [
         "48",
         "51556.077669238904",
         "7634.900780376678",
         "32054.53523381932"
        ],
        [
         "49",
         "51555.568591963805",
         "7628.68720651864",
         "32066.969352796317"
        ]
       ],
       "shape": {
        "columns": 3,
        "rows": 2086022
       }
      },
      "text/html": [
       "<div>\n",
       "<style scoped>\n",
       "    .dataframe tbody tr th:only-of-type {\n",
       "        vertical-align: middle;\n",
       "    }\n",
       "\n",
       "    .dataframe tbody tr th {\n",
       "        vertical-align: top;\n",
       "    }\n",
       "\n",
       "    .dataframe thead th {\n",
       "        text-align: right;\n",
       "    }\n",
       "</style>\n",
       "<table border=\"1\" class=\"dataframe\">\n",
       "  <thead>\n",
       "    <tr style=\"text-align: right;\">\n",
       "      <th></th>\n",
       "      <th>x</th>\n",
       "      <th>y</th>\n",
       "      <th>z</th>\n",
       "    </tr>\n",
       "  </thead>\n",
       "  <tbody>\n",
       "    <tr>\n",
       "      <th>0</th>\n",
       "      <td>51379.166882</td>\n",
       "      <td>7615.982407</td>\n",
       "      <td>31945.105788</td>\n",
       "    </tr>\n",
       "    <tr>\n",
       "      <th>1</th>\n",
       "      <td>51381.808989</td>\n",
       "      <td>7619.676866</td>\n",
       "      <td>31944.216404</td>\n",
       "    </tr>\n",
       "    <tr>\n",
       "      <th>2</th>\n",
       "      <td>51377.527782</td>\n",
       "      <td>7617.133913</td>\n",
       "      <td>31945.529243</td>\n",
       "    </tr>\n",
       "    <tr>\n",
       "      <th>3</th>\n",
       "      <td>51373.554624</td>\n",
       "      <td>7612.177014</td>\n",
       "      <td>31948.510924</td>\n",
       "    </tr>\n",
       "    <tr>\n",
       "      <th>4</th>\n",
       "      <td>51374.339729</td>\n",
       "      <td>7612.388950</td>\n",
       "      <td>31946.355516</td>\n",
       "    </tr>\n",
       "    <tr>\n",
       "      <th>...</th>\n",
       "      <td>...</td>\n",
       "      <td>...</td>\n",
       "      <td>...</td>\n",
       "    </tr>\n",
       "    <tr>\n",
       "      <th>2086017</th>\n",
       "      <td>51484.537170</td>\n",
       "      <td>7430.302069</td>\n",
       "      <td>32174.492829</td>\n",
       "    </tr>\n",
       "    <tr>\n",
       "      <th>2086018</th>\n",
       "      <td>51565.943611</td>\n",
       "      <td>7358.359530</td>\n",
       "      <td>32172.330101</td>\n",
       "    </tr>\n",
       "    <tr>\n",
       "      <th>2086019</th>\n",
       "      <td>51465.075896</td>\n",
       "      <td>7431.870582</td>\n",
       "      <td>32176.828149</td>\n",
       "    </tr>\n",
       "    <tr>\n",
       "      <th>2086020</th>\n",
       "      <td>51379.402577</td>\n",
       "      <td>7519.297397</td>\n",
       "      <td>32336.782288</td>\n",
       "    </tr>\n",
       "    <tr>\n",
       "      <th>2086021</th>\n",
       "      <td>51417.812714</td>\n",
       "      <td>7518.132478</td>\n",
       "      <td>32350.864500</td>\n",
       "    </tr>\n",
       "  </tbody>\n",
       "</table>\n",
       "<p>2086022 rows × 3 columns</p>\n",
       "</div>"
      ],
      "text/plain": [
       "                    x            y             z\n",
       "0        51379.166882  7615.982407  31945.105788\n",
       "1        51381.808989  7619.676866  31944.216404\n",
       "2        51377.527782  7617.133913  31945.529243\n",
       "3        51373.554624  7612.177014  31948.510924\n",
       "4        51374.339729  7612.388950  31946.355516\n",
       "...               ...          ...           ...\n",
       "2086017  51484.537170  7430.302069  32174.492829\n",
       "2086018  51565.943611  7358.359530  32172.330101\n",
       "2086019  51465.075896  7431.870582  32176.828149\n",
       "2086020  51379.402577  7519.297397  32336.782288\n",
       "2086021  51417.812714  7518.132478  32350.864500\n",
       "\n",
       "[2086022 rows x 3 columns]"
      ]
     },
     "execution_count": 74,
     "metadata": {},
     "output_type": "execute_result"
    }
   ],
   "source": [
    "df"
   ]
  }
 ],
 "metadata": {
  "kernelspec": {
   "display_name": "pynbody",
   "language": "python",
   "name": "python3"
  },
  "language_info": {
   "codemirror_mode": {
    "name": "ipython",
    "version": 3
   },
   "file_extension": ".py",
   "mimetype": "text/x-python",
   "name": "python",
   "nbconvert_exporter": "python",
   "pygments_lexer": "ipython3",
   "version": "3.12.3"
  }
 },
 "nbformat": 4,
 "nbformat_minor": 2
}

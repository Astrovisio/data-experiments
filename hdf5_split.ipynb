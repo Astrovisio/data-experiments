{
 "cells": [
  {
   "cell_type": "code",
   "execution_count": 6,
   "id": "6b74cdee",
   "metadata": {},
   "outputs": [],
   "source": [
    "import pynbody, h5py"
   ]
  },
  {
   "cell_type": "code",
   "execution_count": 2,
   "id": "fd843fd1",
   "metadata": {},
   "outputs": [],
   "source": [
    "path = \".data/illustris_data/342447.hdf5\""
   ]
  },
  {
   "cell_type": "code",
   "execution_count": 49,
   "id": "7b3c8024",
   "metadata": {},
   "outputs": [
    {
     "name": "stderr",
     "output_type": "stream",
     "text": [
      "/home/dev/development/data-experiments/.venv/lib/python3.12/site-packages/pynbody/snapshot/gadgethdf.py:686: UserWarning: Unable to find cosmological factors in HDF file; assuming position is 3.09e+21 a h**-1\n",
      "  warnings.warn(\"Unable to find cosmological factors in HDF file; assuming position is %s\" % dist_unit)\n",
      "/home/dev/development/data-experiments/.venv/lib/python3.12/site-packages/pynbody/snapshot/gadgethdf.py:691: UserWarning: Unable to find cosmological factors in HDF file; assuming velocity is 1.00e+05 a**1/2\n",
      "  warnings.warn(\"Unable to find cosmological factors in HDF file; assuming velocity is %s\" % vel_unit)\n",
      "/home/dev/development/data-experiments/.venv/lib/python3.12/site-packages/pynbody/snapshot/gadgethdf.py:449: UserWarning: Masses are either stored in the header or have another dataset name; assuming the cosmological factor h**-1\n",
      "  warnings.warn(\"Masses are either stored in the header or have another dataset name; assuming the cosmological factor %s\" % units.h**-1)\n"
     ]
    }
   ],
   "source": [
    "sim = pynbody.load(path)\n",
    "output_filename = '.data/illustris_data/342447_gas.hdf5'"
   ]
  },
  {
   "cell_type": "code",
   "execution_count": 59,
   "id": "3d9bfbba",
   "metadata": {},
   "outputs": [
    {
     "name": "stderr",
     "output_type": "stream",
     "text": [
      "/home/dev/development/data-experiments/.venv/lib/python3.12/site-packages/pynbody/snapshot/gadgethdf.py:469: UserWarning: Unable to infer units from HDF attributes\n",
      "  warnings.warn(\"Unable to infer units from HDF attributes\")\n"
     ]
    }
   ],
   "source": [
    "sim.gas.write(filename=output_filename, fmt=pynbody.snapshot.tipsy.TipsySnap)"
   ]
  },
  {
   "cell_type": "code",
   "execution_count": 62,
   "id": "124b3ede",
   "metadata": {},
   "outputs": [
    {
     "name": "stderr",
     "output_type": "stream",
     "text": [
      "/home/dev/development/data-experiments/.venv/lib/python3.12/site-packages/pynbody/snapshot/tipsy.py:126: RuntimeWarning: No readable param file in the run directory or parent directory: using defaults.\n",
      "  warnings.warn(\n"
     ]
    }
   ],
   "source": [
    "sim_gas = pynbody.load(output_filename)"
   ]
  },
  {
   "cell_type": "code",
   "execution_count": 64,
   "id": "94532343",
   "metadata": {},
   "outputs": [
    {
     "data": {
      "text/plain": [
       "[<Family gas>]"
      ]
     },
     "execution_count": 64,
     "metadata": {},
     "output_type": "execute_result"
    }
   ],
   "source": [
    "sim_gas.families()"
   ]
  },
  {
   "cell_type": "code",
   "execution_count": null,
   "id": "9b2635e0",
   "metadata": {},
   "outputs": [],
   "source": [
    "import numpy as np\n",
    "import pynbody\n",
    "\n",
    "# Create a dummy simulation\n",
    "s = pynbody.new(gas=1000)\n",
    "\n",
    "s.gas['x'] = np.random.uniform(0, 1, 1000)\n",
    "s.gas['y'] = np.random.uniform(0, 1, 1000)\n",
    "s.gas['z'] = np.random.uniform(0, 1, 1000)\n",
    "s.gas['mass'] = np.random.uniform(0.1, 1.0, 1000)\n"
   ]
  },
  {
   "cell_type": "code",
   "execution_count": 88,
   "id": "9c0e01e3",
   "metadata": {},
   "outputs": [
    {
     "data": {
      "text/plain": [
       "[<Family gas>]"
      ]
     },
     "execution_count": 88,
     "metadata": {},
     "output_type": "execute_result"
    }
   ],
   "source": [
    "s.families()"
   ]
  },
  {
   "cell_type": "code",
   "execution_count": 89,
   "id": "959f43df",
   "metadata": {},
   "outputs": [
    {
     "name": "stderr",
     "output_type": "stream",
     "text": [
      "/home/dev/development/data-experiments/.venv/lib/python3.12/site-packages/pynbody/simdict.py:107: RuntimeWarning: Assuming default value for property 'a'=1.00e+00\n",
      "  warnings.warn(\"Assuming default value for property '{}'={:.2e}\".format(\n"
     ]
    }
   ],
   "source": [
    "s.gas.write(filename=\".data/test.hdf5\", fmt=pynbody.snapshot.tipsy.TipsySnap)"
   ]
  }
 ],
 "metadata": {
  "kernelspec": {
   "display_name": ".venv",
   "language": "python",
   "name": "python3"
  },
  "language_info": {
   "codemirror_mode": {
    "name": "ipython",
    "version": 3
   },
   "file_extension": ".py",
   "mimetype": "text/x-python",
   "name": "python",
   "nbconvert_exporter": "python",
   "pygments_lexer": "ipython3",
   "version": "3.12.9"
  }
 },
 "nbformat": 4,
 "nbformat_minor": 5
}

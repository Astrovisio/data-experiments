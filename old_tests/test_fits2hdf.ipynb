{
 "cells": [
  {
   "cell_type": "code",
   "execution_count": 7,
   "metadata": {},
   "outputs": [],
   "source": [
    "import pandas as pd\n",
    "from spectral_cube import SpectralCube\n",
    "import numpy as np\n",
    "import open3d as o3d\n",
    "import matplotlib.pyplot as plt\n",
    "from astropy.io import fits"
   ]
  },
  {
   "cell_type": "code",
   "execution_count": null,
   "metadata": {},
   "outputs": [],
   "source": [
    "fits_path = \".data/fits/m1_m5.freqtol_1.3MHz.spw014589.clean_line_19.fits\""
   ]
  },
  {
   "cell_type": "code",
   "execution_count": 9,
   "metadata": {},
   "outputs": [],
   "source": [
    "fits_data = fits.open(fits_path)"
   ]
  },
  {
   "cell_type": "code",
   "execution_count": 10,
   "metadata": {},
   "outputs": [
    {
     "name": "stdout",
     "output_type": "stream",
     "text": [
      "98968514570.0\n"
     ]
    }
   ],
   "source": [
    "# FREQ0 \n",
    "for el in [\"RESTFRQ\", \"FREQ0\", \"RESTFREQ\"]:\n",
    "    try:\n",
    "        print(fits_data[0].header[el])\n",
    "    except:\n",
    "        continue"
   ]
  },
  {
   "cell_type": "code",
   "execution_count": 11,
   "metadata": {},
   "outputs": [],
   "source": [
    "import numpy as np\n",
    "import pandas as pd\n",
    "import math\n",
    "from spectral_cube import SpectralCube\n",
    "\n",
    "def fits_to_dataframe(path, noise_frac=0.001):\n",
    "    # Load the spectral cube\n",
    "    cube = SpectralCube.read(path)\n",
    "\n",
    "    df_list = []\n",
    "\n",
    "    # Iterate over the spectral axis (velocity axis)\n",
    "    for i in range(cube.shape[0]):\n",
    "        # Slice one spectral frame at a time\n",
    "        slab = cube[i, :, :]  # shape: (y, x)\n",
    "\n",
    "        # Get world coordinates for this frame\n",
    "        world = slab.wcs.pixel_to_world_values(\n",
    "            *np.meshgrid(\n",
    "                np.arange(cube.shape[2]),  # x (RA)\n",
    "                np.arange(cube.shape[1]),  # y (Dec)\n",
    "                indexing=\"xy\",\n",
    "            )\n",
    "        )\n",
    "\n",
    "        ra = world[0].flatten()\n",
    "        dec = world[1].flatten()\n",
    "        velo = cube.spectral_axis[i].value  # Single velocity value for this slice\n",
    "        intensity = slab.filled_data[:].value.flatten()\n",
    "\n",
    "        # For velocity: can do per-pixel (if you want) or per-slice (scalar)\n",
    "        #velo_noisy = velo + np.random.uniform(-oom_velo, oom_velo)\n",
    "\n",
    "        # Build DataFrame for this slab\n",
    "        df_slice = pd.DataFrame(\n",
    "            {\"velocity\": velo, \"ra\": ra, \"dec\": dec, \"intensity\": intensity}\n",
    "        )\n",
    "\n",
    "        df_list.append(df_slice)\n",
    "\n",
    "    # Concatenate all slices into a single DataFrame\n",
    "    df = pd.concat(df_list, ignore_index=True)\n",
    "    df.dropna(inplace=True)\n",
    "    \n",
    "    scales = abs(df.mean()) * 0.000000005\n",
    "\n",
    "    # Generate multiplicative noise for each column\n",
    "    noise_grid = np.random.normal(loc=1.0, scale=scales.values, size=df.shape)\n",
    "\n",
    "    df_noisy = df * noise_grid\n",
    "    \n",
    "    del cube\n",
    "\n",
    "    return df_noisy\n"
   ]
  },
  {
   "cell_type": "code",
   "execution_count": 12,
   "metadata": {},
   "outputs": [
    {
     "name": "stderr",
     "output_type": "stream",
     "text": [
      "WARNING: StokesWarning: Cube is a Stokes cube, returning spectral cube for I component [spectral_cube.io.core]\n",
      "WARNING: WCSWarning: WCS1 is missing card PV2_1 [spectral_cube.wcs_utils]\n",
      "WARNING: WCSWarning: WCS1 is missing card PV2_2 [spectral_cube.wcs_utils]\n",
      "WARNING: WCSWarning: WCS1 is missing card PV2_1 [spectral_cube.wcs_utils]\n",
      "WARNING: WCSWarning: WCS1 is missing card PV2_2 [spectral_cube.wcs_utils]\n",
      "WARNING: WCSWarning: WCS1 is missing card PV2_1 [spectral_cube.wcs_utils]\n",
      "WARNING: WCSWarning: WCS1 is missing card PV2_2 [spectral_cube.wcs_utils]\n",
      "WARNING: WCSWarning: WCS1 is missing card PV2_1 [spectral_cube.wcs_utils]\n",
      "WARNING: WCSWarning: WCS1 is missing card PV2_2 [spectral_cube.wcs_utils]\n",
      "WARNING: WCSWarning: WCS1 is missing card PV2_1 [spectral_cube.wcs_utils]\n",
      "WARNING: WCSWarning: WCS1 is missing card PV2_2 [spectral_cube.wcs_utils]\n",
      "WARNING: WCSWarning: WCS1 is missing card PV2_1 [spectral_cube.wcs_utils]\n",
      "WARNING: WCSWarning: WCS1 is missing card PV2_2 [spectral_cube.wcs_utils]\n",
      "WARNING: WCSWarning: WCS1 is missing card PV2_1 [spectral_cube.wcs_utils]\n",
      "WARNING: WCSWarning: WCS1 is missing card PV2_2 [spectral_cube.wcs_utils]\n",
      "WARNING: WCSWarning: WCS1 is missing card PV2_1 [spectral_cube.wcs_utils]\n",
      "WARNING: WCSWarning: WCS1 is missing card PV2_2 [spectral_cube.wcs_utils]\n",
      "WARNING: WCSWarning: WCS1 is missing card PV2_1 [spectral_cube.wcs_utils]\n",
      "WARNING: WCSWarning: WCS1 is missing card PV2_2 [spectral_cube.wcs_utils]\n",
      "WARNING: WCSWarning: WCS1 is missing card PV2_1 [spectral_cube.wcs_utils]\n",
      "WARNING: WCSWarning: WCS1 is missing card PV2_2 [spectral_cube.wcs_utils]\n",
      "WARNING: WCSWarning: WCS1 is missing card PV2_1 [spectral_cube.wcs_utils]\n",
      "WARNING: WCSWarning: WCS1 is missing card PV2_2 [spectral_cube.wcs_utils]\n",
      "WARNING: WCSWarning: WCS1 is missing card PV2_1 [spectral_cube.wcs_utils]\n",
      "WARNING: WCSWarning: WCS1 is missing card PV2_2 [spectral_cube.wcs_utils]\n",
      "WARNING: WCSWarning: WCS1 is missing card PV2_1 [spectral_cube.wcs_utils]\n",
      "WARNING: WCSWarning: WCS1 is missing card PV2_2 [spectral_cube.wcs_utils]\n",
      "WARNING: WCSWarning: WCS1 is missing card PV2_1 [spectral_cube.wcs_utils]\n",
      "WARNING: WCSWarning: WCS1 is missing card PV2_2 [spectral_cube.wcs_utils]\n",
      "WARNING: WCSWarning: WCS1 is missing card PV2_1 [spectral_cube.wcs_utils]\n",
      "WARNING: WCSWarning: WCS1 is missing card PV2_2 [spectral_cube.wcs_utils]\n",
      "WARNING: WCSWarning: WCS1 is missing card PV2_1 [spectral_cube.wcs_utils]\n",
      "WARNING: WCSWarning: WCS1 is missing card PV2_2 [spectral_cube.wcs_utils]\n",
      "WARNING: WCSWarning: WCS1 is missing card PV2_1 [spectral_cube.wcs_utils]\n",
      "WARNING: WCSWarning: WCS1 is missing card PV2_2 [spectral_cube.wcs_utils]\n",
      "WARNING: WCSWarning: WCS1 is missing card PV2_1 [spectral_cube.wcs_utils]\n",
      "WARNING: WCSWarning: WCS1 is missing card PV2_2 [spectral_cube.wcs_utils]\n",
      "WARNING: WCSWarning: WCS1 is missing card PV2_1 [spectral_cube.wcs_utils]\n",
      "WARNING: WCSWarning: WCS1 is missing card PV2_2 [spectral_cube.wcs_utils]\n",
      "WARNING: WCSWarning: WCS1 is missing card PV2_1 [spectral_cube.wcs_utils]\n",
      "WARNING: WCSWarning: WCS1 is missing card PV2_2 [spectral_cube.wcs_utils]\n",
      "WARNING: WCSWarning: WCS1 is missing card PV2_1 [spectral_cube.wcs_utils]\n",
      "WARNING: WCSWarning: WCS1 is missing card PV2_2 [spectral_cube.wcs_utils]\n",
      "WARNING: WCSWarning: WCS1 is missing card PV2_1 [spectral_cube.wcs_utils]\n",
      "WARNING: WCSWarning: WCS1 is missing card PV2_2 [spectral_cube.wcs_utils]\n",
      "WARNING: WCSWarning: WCS1 is missing card PV2_1 [spectral_cube.wcs_utils]\n",
      "WARNING: WCSWarning: WCS1 is missing card PV2_2 [spectral_cube.wcs_utils]\n",
      "WARNING: WCSWarning: WCS1 is missing card PV2_1 [spectral_cube.wcs_utils]\n",
      "WARNING: WCSWarning: WCS1 is missing card PV2_2 [spectral_cube.wcs_utils]\n",
      "WARNING: WCSWarning: WCS1 is missing card PV2_1 [spectral_cube.wcs_utils]\n",
      "WARNING: WCSWarning: WCS1 is missing card PV2_2 [spectral_cube.wcs_utils]\n",
      "WARNING: WCSWarning: WCS1 is missing card PV2_1 [spectral_cube.wcs_utils]\n",
      "WARNING: WCSWarning: WCS1 is missing card PV2_2 [spectral_cube.wcs_utils]\n",
      "WARNING: WCSWarning: WCS1 is missing card PV2_1 [spectral_cube.wcs_utils]\n",
      "WARNING: WCSWarning: WCS1 is missing card PV2_2 [spectral_cube.wcs_utils]\n",
      "WARNING: WCSWarning: WCS1 is missing card PV2_1 [spectral_cube.wcs_utils]\n",
      "WARNING: WCSWarning: WCS1 is missing card PV2_2 [spectral_cube.wcs_utils]\n",
      "WARNING: WCSWarning: WCS1 is missing card PV2_1 [spectral_cube.wcs_utils]\n",
      "WARNING: WCSWarning: WCS1 is missing card PV2_2 [spectral_cube.wcs_utils]\n",
      "WARNING: WCSWarning: WCS1 is missing card PV2_1 [spectral_cube.wcs_utils]\n",
      "WARNING: WCSWarning: WCS1 is missing card PV2_2 [spectral_cube.wcs_utils]\n",
      "WARNING: WCSWarning: WCS1 is missing card PV2_1 [spectral_cube.wcs_utils]\n",
      "WARNING: WCSWarning: WCS1 is missing card PV2_2 [spectral_cube.wcs_utils]\n",
      "WARNING: WCSWarning: WCS1 is missing card PV2_1 [spectral_cube.wcs_utils]\n",
      "WARNING: WCSWarning: WCS1 is missing card PV2_2 [spectral_cube.wcs_utils]\n",
      "WARNING: WCSWarning: WCS1 is missing card PV2_1 [spectral_cube.wcs_utils]\n",
      "WARNING: WCSWarning: WCS1 is missing card PV2_2 [spectral_cube.wcs_utils]\n",
      "WARNING: WCSWarning: WCS1 is missing card PV2_1 [spectral_cube.wcs_utils]\n",
      "WARNING: WCSWarning: WCS1 is missing card PV2_2 [spectral_cube.wcs_utils]\n",
      "WARNING: WCSWarning: WCS1 is missing card PV2_1 [spectral_cube.wcs_utils]\n",
      "WARNING: WCSWarning: WCS1 is missing card PV2_2 [spectral_cube.wcs_utils]\n",
      "WARNING: WCSWarning: WCS1 is missing card PV2_1 [spectral_cube.wcs_utils]\n",
      "WARNING: WCSWarning: WCS1 is missing card PV2_2 [spectral_cube.wcs_utils]\n",
      "WARNING: WCSWarning: WCS1 is missing card PV2_1 [spectral_cube.wcs_utils]\n",
      "WARNING: WCSWarning: WCS1 is missing card PV2_2 [spectral_cube.wcs_utils]\n",
      "WARNING: WCSWarning: WCS1 is missing card PV2_1 [spectral_cube.wcs_utils]\n",
      "WARNING: WCSWarning: WCS1 is missing card PV2_2 [spectral_cube.wcs_utils]\n",
      "WARNING: WCSWarning: WCS1 is missing card PV2_1 [spectral_cube.wcs_utils]\n",
      "WARNING: WCSWarning: WCS1 is missing card PV2_2 [spectral_cube.wcs_utils]\n",
      "WARNING: WCSWarning: WCS1 is missing card PV2_1 [spectral_cube.wcs_utils]\n",
      "WARNING: WCSWarning: WCS1 is missing card PV2_2 [spectral_cube.wcs_utils]\n",
      "WARNING: WCSWarning: WCS1 is missing card PV2_1 [spectral_cube.wcs_utils]\n",
      "WARNING: WCSWarning: WCS1 is missing card PV2_2 [spectral_cube.wcs_utils]\n",
      "WARNING: WCSWarning: WCS1 is missing card PV2_1 [spectral_cube.wcs_utils]\n",
      "WARNING: WCSWarning: WCS1 is missing card PV2_2 [spectral_cube.wcs_utils]\n",
      "WARNING: WCSWarning: WCS1 is missing card PV2_1 [spectral_cube.wcs_utils]\n",
      "WARNING: WCSWarning: WCS1 is missing card PV2_2 [spectral_cube.wcs_utils]\n",
      "WARNING: WCSWarning: WCS1 is missing card PV2_1 [spectral_cube.wcs_utils]\n",
      "WARNING: WCSWarning: WCS1 is missing card PV2_2 [spectral_cube.wcs_utils]\n",
      "WARNING: WCSWarning: WCS1 is missing card PV2_1 [spectral_cube.wcs_utils]\n",
      "WARNING: WCSWarning: WCS1 is missing card PV2_2 [spectral_cube.wcs_utils]\n",
      "WARNING: WCSWarning: WCS1 is missing card PV2_1 [spectral_cube.wcs_utils]\n",
      "WARNING: WCSWarning: WCS1 is missing card PV2_2 [spectral_cube.wcs_utils]\n",
      "WARNING: WCSWarning: WCS1 is missing card PV2_1 [spectral_cube.wcs_utils]\n",
      "WARNING: WCSWarning: WCS1 is missing card PV2_2 [spectral_cube.wcs_utils]\n",
      "WARNING: WCSWarning: WCS1 is missing card PV2_1 [spectral_cube.wcs_utils]\n",
      "WARNING: WCSWarning: WCS1 is missing card PV2_2 [spectral_cube.wcs_utils]\n",
      "WARNING: WCSWarning: WCS1 is missing card PV2_1 [spectral_cube.wcs_utils]\n",
      "WARNING: WCSWarning: WCS1 is missing card PV2_2 [spectral_cube.wcs_utils]\n",
      "WARNING: WCSWarning: WCS1 is missing card PV2_1 [spectral_cube.wcs_utils]\n",
      "WARNING: WCSWarning: WCS1 is missing card PV2_2 [spectral_cube.wcs_utils]\n",
      "WARNING: WCSWarning: WCS1 is missing card PV2_1 [spectral_cube.wcs_utils]\n",
      "WARNING: WCSWarning: WCS1 is missing card PV2_2 [spectral_cube.wcs_utils]\n",
      "WARNING: WCSWarning: WCS1 is missing card PV2_1 [spectral_cube.wcs_utils]\n",
      "WARNING: WCSWarning: WCS1 is missing card PV2_2 [spectral_cube.wcs_utils]\n",
      "WARNING: WCSWarning: WCS1 is missing card PV2_1 [spectral_cube.wcs_utils]\n",
      "WARNING: WCSWarning: WCS1 is missing card PV2_2 [spectral_cube.wcs_utils]\n",
      "WARNING: WCSWarning: WCS1 is missing card PV2_1 [spectral_cube.wcs_utils]\n",
      "WARNING: WCSWarning: WCS1 is missing card PV2_2 [spectral_cube.wcs_utils]\n",
      "WARNING: WCSWarning: WCS1 is missing card PV2_1 [spectral_cube.wcs_utils]\n",
      "WARNING: WCSWarning: WCS1 is missing card PV2_2 [spectral_cube.wcs_utils]\n",
      "WARNING: WCSWarning: WCS1 is missing card PV2_1 [spectral_cube.wcs_utils]\n",
      "WARNING: WCSWarning: WCS1 is missing card PV2_2 [spectral_cube.wcs_utils]\n",
      "WARNING: WCSWarning: WCS1 is missing card PV2_1 [spectral_cube.wcs_utils]\n",
      "WARNING: WCSWarning: WCS1 is missing card PV2_2 [spectral_cube.wcs_utils]\n",
      "WARNING: WCSWarning: WCS1 is missing card PV2_1 [spectral_cube.wcs_utils]\n",
      "WARNING: WCSWarning: WCS1 is missing card PV2_2 [spectral_cube.wcs_utils]\n",
      "WARNING: WCSWarning: WCS1 is missing card PV2_1 [spectral_cube.wcs_utils]\n",
      "WARNING: WCSWarning: WCS1 is missing card PV2_2 [spectral_cube.wcs_utils]\n",
      "WARNING: WCSWarning: WCS1 is missing card PV2_1 [spectral_cube.wcs_utils]\n",
      "WARNING: WCSWarning: WCS1 is missing card PV2_2 [spectral_cube.wcs_utils]\n",
      "WARNING: WCSWarning: WCS1 is missing card PV2_1 [spectral_cube.wcs_utils]\n",
      "WARNING: WCSWarning: WCS1 is missing card PV2_2 [spectral_cube.wcs_utils]\n",
      "WARNING: WCSWarning: WCS1 is missing card PV2_1 [spectral_cube.wcs_utils]\n",
      "WARNING: WCSWarning: WCS1 is missing card PV2_2 [spectral_cube.wcs_utils]\n",
      "WARNING: WCSWarning: WCS1 is missing card PV2_1 [spectral_cube.wcs_utils]\n",
      "WARNING: WCSWarning: WCS1 is missing card PV2_2 [spectral_cube.wcs_utils]\n",
      "WARNING: WCSWarning: WCS1 is missing card PV2_1 [spectral_cube.wcs_utils]\n",
      "WARNING: WCSWarning: WCS1 is missing card PV2_2 [spectral_cube.wcs_utils]\n",
      "WARNING: WCSWarning: WCS1 is missing card PV2_1 [spectral_cube.wcs_utils]\n",
      "WARNING: WCSWarning: WCS1 is missing card PV2_2 [spectral_cube.wcs_utils]\n",
      "WARNING: WCSWarning: WCS1 is missing card PV2_1 [spectral_cube.wcs_utils]\n",
      "WARNING: WCSWarning: WCS1 is missing card PV2_2 [spectral_cube.wcs_utils]\n",
      "WARNING: WCSWarning: WCS1 is missing card PV2_1 [spectral_cube.wcs_utils]\n",
      "WARNING: WCSWarning: WCS1 is missing card PV2_2 [spectral_cube.wcs_utils]\n",
      "WARNING: WCSWarning: WCS1 is missing card PV2_1 [spectral_cube.wcs_utils]\n",
      "WARNING: WCSWarning: WCS1 is missing card PV2_2 [spectral_cube.wcs_utils]\n",
      "WARNING: WCSWarning: WCS1 is missing card PV2_1 [spectral_cube.wcs_utils]\n",
      "WARNING: WCSWarning: WCS1 is missing card PV2_2 [spectral_cube.wcs_utils]\n",
      "WARNING: WCSWarning: WCS1 is missing card PV2_1 [spectral_cube.wcs_utils]\n",
      "WARNING: WCSWarning: WCS1 is missing card PV2_2 [spectral_cube.wcs_utils]\n",
      "WARNING: WCSWarning: WCS1 is missing card PV2_1 [spectral_cube.wcs_utils]\n",
      "WARNING: WCSWarning: WCS1 is missing card PV2_2 [spectral_cube.wcs_utils]\n",
      "WARNING: WCSWarning: WCS1 is missing card PV2_1 [spectral_cube.wcs_utils]\n",
      "WARNING: WCSWarning: WCS1 is missing card PV2_2 [spectral_cube.wcs_utils]\n",
      "WARNING: WCSWarning: WCS1 is missing card PV2_1 [spectral_cube.wcs_utils]\n",
      "WARNING: WCSWarning: WCS1 is missing card PV2_2 [spectral_cube.wcs_utils]\n",
      "WARNING: WCSWarning: WCS1 is missing card PV2_1 [spectral_cube.wcs_utils]\n",
      "WARNING: WCSWarning: WCS1 is missing card PV2_2 [spectral_cube.wcs_utils]\n",
      "WARNING: WCSWarning: WCS1 is missing card PV2_1 [spectral_cube.wcs_utils]\n",
      "WARNING: WCSWarning: WCS1 is missing card PV2_2 [spectral_cube.wcs_utils]\n",
      "WARNING: WCSWarning: WCS1 is missing card PV2_1 [spectral_cube.wcs_utils]\n",
      "WARNING: WCSWarning: WCS1 is missing card PV2_2 [spectral_cube.wcs_utils]\n",
      "WARNING: WCSWarning: WCS1 is missing card PV2_1 [spectral_cube.wcs_utils]\n",
      "WARNING: WCSWarning: WCS1 is missing card PV2_2 [spectral_cube.wcs_utils]\n",
      "WARNING: WCSWarning: WCS1 is missing card PV2_1 [spectral_cube.wcs_utils]\n",
      "WARNING: WCSWarning: WCS1 is missing card PV2_2 [spectral_cube.wcs_utils]\n",
      "WARNING: WCSWarning: WCS1 is missing card PV2_1 [spectral_cube.wcs_utils]\n",
      "WARNING: WCSWarning: WCS1 is missing card PV2_2 [spectral_cube.wcs_utils]\n",
      "WARNING: WCSWarning: WCS1 is missing card PV2_1 [spectral_cube.wcs_utils]\n",
      "WARNING: WCSWarning: WCS1 is missing card PV2_2 [spectral_cube.wcs_utils]\n",
      "WARNING: WCSWarning: WCS1 is missing card PV2_1 [spectral_cube.wcs_utils]\n",
      "WARNING: WCSWarning: WCS1 is missing card PV2_2 [spectral_cube.wcs_utils]\n",
      "WARNING: WCSWarning: WCS1 is missing card PV2_1 [spectral_cube.wcs_utils]\n",
      "WARNING: WCSWarning: WCS1 is missing card PV2_2 [spectral_cube.wcs_utils]\n",
      "WARNING: WCSWarning: WCS1 is missing card PV2_1 [spectral_cube.wcs_utils]\n",
      "WARNING: WCSWarning: WCS1 is missing card PV2_2 [spectral_cube.wcs_utils]\n",
      "WARNING: WCSWarning: WCS1 is missing card PV2_1 [spectral_cube.wcs_utils]\n",
      "WARNING: WCSWarning: WCS1 is missing card PV2_2 [spectral_cube.wcs_utils]\n",
      "WARNING: WCSWarning: WCS1 is missing card PV2_1 [spectral_cube.wcs_utils]\n",
      "WARNING: WCSWarning: WCS1 is missing card PV2_2 [spectral_cube.wcs_utils]\n",
      "WARNING: WCSWarning: WCS1 is missing card PV2_1 [spectral_cube.wcs_utils]\n",
      "WARNING: WCSWarning: WCS1 is missing card PV2_2 [spectral_cube.wcs_utils]\n",
      "WARNING: WCSWarning: WCS1 is missing card PV2_1 [spectral_cube.wcs_utils]\n",
      "WARNING: WCSWarning: WCS1 is missing card PV2_2 [spectral_cube.wcs_utils]\n",
      "WARNING: WCSWarning: WCS1 is missing card PV2_1 [spectral_cube.wcs_utils]\n",
      "WARNING: WCSWarning: WCS1 is missing card PV2_2 [spectral_cube.wcs_utils]\n",
      "WARNING: WCSWarning: WCS1 is missing card PV2_1 [spectral_cube.wcs_utils]\n",
      "WARNING: WCSWarning: WCS1 is missing card PV2_2 [spectral_cube.wcs_utils]\n",
      "WARNING: WCSWarning: WCS1 is missing card PV2_1 [spectral_cube.wcs_utils]\n",
      "WARNING: WCSWarning: WCS1 is missing card PV2_2 [spectral_cube.wcs_utils]\n",
      "WARNING: WCSWarning: WCS1 is missing card PV2_1 [spectral_cube.wcs_utils]\n",
      "WARNING: WCSWarning: WCS1 is missing card PV2_2 [spectral_cube.wcs_utils]\n"
     ]
    }
   ],
   "source": [
    "df = fits_to_dataframe(fits_path)\n",
    "df = df[df[\"intensity\"]>0]"
   ]
  },
  {
   "cell_type": "code",
   "execution_count": 13,
   "metadata": {},
   "outputs": [
    {
     "data": {
      "application/vnd.microsoft.datawrangler.viewer.v0+json": {
       "columns": [
        {
         "name": "index",
         "rawType": "int64",
         "type": "integer"
        },
        {
         "name": "velocity",
         "rawType": "float64",
         "type": "float"
        },
        {
         "name": "ra",
         "rawType": "float64",
         "type": "float"
        },
        {
         "name": "dec",
         "rawType": "float64",
         "type": "float"
        },
        {
         "name": "intensity",
         "rawType": "float64",
         "type": "float"
        }
       ],
       "ref": "1360af97-9ab2-4621-9b35-0fefb583ee1f",
       "rows": [
        [
         "0",
         "454459.36323733843",
         "150.23851384533643",
         "2.3367319937249804",
         "0.00011123434524052173"
        ],
        [
         "1",
         "453749.9356337195",
         "150.23864351248474",
         "2.336731909568709",
         "8.779690688243468e-05"
        ],
        [
         "2",
         "454167.5665857381",
         "150.23873117597608",
         "2.336731977939282",
         "5.96779500483505e-05"
        ],
        [
         "3",
         "454013.02261984",
         "150.2387131851415",
         "2.3367319619554614",
         "4.9879388825503575e-05"
        ],
        [
         "4",
         "454311.55861844047",
         "150.2385524604986",
         "2.3367319401197877",
         "6.877334817546082e-05"
        ],
        [
         "5",
         "453973.07318024634",
         "150.2384313458748",
         "2.3367319019053467",
         "0.00010506573744351145"
        ],
        [
         "6",
         "454010.4402252696",
         "150.23870970124753",
         "2.3367319174203587",
         "0.00013426938676274345"
        ],
        [
         "7",
         "454096.94317187625",
         "150.2385591005136",
         "2.3367319067898142",
         "0.00013469431723932846"
        ],
        [
         "8",
         "454430.86447156564",
         "150.2388092630975",
         "2.336731953391568",
         "9.843542648013716e-05"
        ],
        [
         "9",
         "453835.326535426",
         "150.2386500826895",
         "2.336732002371598",
         "3.403196751605744e-05"
        ],
        [
         "16",
         "454071.7645873853",
         "150.23850858460722",
         "2.3367319536808666",
         "3.877393464790595e-05"
        ],
        [
         "17",
         "454156.04635566246",
         "150.23831660909093",
         "2.336731969709271",
         "8.531178173143282e-05"
        ],
        [
         "18",
         "454148.4599947561",
         "150.23850074860147",
         "2.3367318934733907",
         "0.00012098922888981342"
        ],
        [
         "19",
         "454136.792008964",
         "150.2384062537733",
         "2.336731958955827",
         "0.0001215050942846502"
        ],
        [
         "20",
         "454174.4847230067",
         "150.23825154951544",
         "2.3367319724869726",
         "7.480497879441235e-05"
        ],
        [
         "21",
         "454152.9992630013",
         "150.23846891542428",
         "2.336731932578732",
         "8.532708193342787e-07"
        ],
        [
         "35",
         "454071.2427298766",
         "150.23834782338972",
         "2.3367319429897657",
         "7.29910061636504e-06"
        ],
        [
         "36",
         "454217.1900394428",
         "150.23797026184613",
         "2.336731915793177",
         "3.31036280840627e-05"
        ],
        [
         "37",
         "454009.80413660884",
         "150.23814711987686",
         "2.336731978113247",
         "5.979514389764524e-05"
        ],
        [
         "38",
         "453993.7828902152",
         "150.2382561843144",
         "2.336731920270175",
         "9.730453166412734e-05"
        ],
        [
         "39",
         "454140.1411681611",
         "150.23815503115358",
         "2.3367319407428555",
         "0.00013653849600813635"
        ],
        [
         "40",
         "454207.54241294874",
         "150.23817158319108",
         "2.3367319208795365",
         "0.00015210098354145928"
        ],
        [
         "41",
         "454215.3976130257",
         "150.2382890848965",
         "2.3367319775230673",
         "0.00012682782835327547"
        ],
        [
         "42",
         "453760.83850323694",
         "150.23806557100963",
         "2.3367319051463435",
         "7.133348844944871e-05"
        ],
        [
         "43",
         "454334.0135096167",
         "150.23801206188762",
         "2.336731894240631",
         "1.5582661944790625e-05"
        ],
        [
         "60",
         "454278.6668689003",
         "150.23769348501293",
         "2.3367319697332216",
         "1.7628286514082775e-05"
        ],
        [
         "61",
         "453968.38719132764",
         "150.2377857887345",
         "2.3367319314140342",
         "3.6347853892948485e-05"
        ],
        [
         "62",
         "454472.9727737384",
         "150.23784251391368",
         "2.3367319456615805",
         "2.6368292310505657e-05"
        ],
        [
         "67",
         "453949.39853079454",
         "150.2378168232748",
         "2.3367319657665266",
         "2.9848584745197053e-05"
        ],
        [
         "68",
         "454142.85221735697",
         "150.23773601281073",
         "2.336731977683968",
         "0.00010726939945016563"
        ],
        [
         "69",
         "453906.02641120856",
         "150.23759383080474",
         "2.336731982623437",
         "0.0001443630753783485"
        ],
        [
         "70",
         "453753.656778143",
         "150.23781246321198",
         "2.33673195633446",
         "0.0001328399666817882"
        ],
        [
         "71",
         "453983.88614401047",
         "150.23783995213415",
         "2.336731928288627",
         "0.00010210505570285167"
        ],
        [
         "72",
         "454325.5607600586",
         "150.23773157427186",
         "2.3367318780377064",
         "9.312541806138994e-05"
        ],
        [
         "73",
         "453986.5591370564",
         "150.237813630489",
         "2.3367318885690955",
         "0.0001248632179340355"
        ],
        [
         "74",
         "454175.037760723",
         "150.23756348260576",
         "2.336731931864226",
         "0.00018271084991284097"
        ],
        [
         "75",
         "454023.28524376085",
         "150.23782769814034",
         "2.336731955666579",
         "0.00023669007350690774"
        ],
        [
         "76",
         "454077.8657414233",
         "150.2376593096615",
         "2.3367319396401918",
         "0.0002691913396120149"
        ],
        [
         "77",
         "454273.126426831",
         "150.23787002243589",
         "2.3367319643714395",
         "0.0002851478930097149"
        ],
        [
         "78",
         "454112.7628041449",
         "150.23753583650011",
         "2.336731961455123",
         "0.000298042286885893"
        ],
        [
         "79",
         "453785.5092221296",
         "150.23745604357475",
         "2.3367319128006225",
         "0.0003109840326942713"
        ],
        [
         "80",
         "454013.48837539385",
         "150.23765212694698",
         "2.336731937096246",
         "0.00031545778620057025"
        ],
        [
         "81",
         "454070.74168324744",
         "150.23772844251621",
         "2.336731961399239",
         "0.00030783843249085243"
        ],
        [
         "82",
         "454250.7326986318",
         "150.2378080459974",
         "2.336731953289638",
         "0.0003013985697180022"
        ],
        [
         "83",
         "454104.9333094645",
         "150.23763255273312",
         "2.3367319831837103",
         "0.0003160107298753986"
        ],
        [
         "84",
         "454100.8297532585",
         "150.23766808513196",
         "2.3367319421509776",
         "0.000354907417204246"
        ],
        [
         "85",
         "454119.6679759171",
         "150.23776247742873",
         "2.3367319236744275",
         "0.00039570813532916333"
        ],
        [
         "86",
         "453850.61026825913",
         "150.2376762002392",
         "2.336731947767291",
         "0.0004087488632649334"
        ],
        [
         "87",
         "453899.8403953859",
         "150.23757802675922",
         "2.3367319293670854",
         "0.000384628627216434"
        ],
        [
         "88",
         "453958.40691049374",
         "150.23764569608562",
         "2.336731933757415",
         "0.00034145868266931495"
        ]
       ],
       "shape": {
        "columns": 4,
        "rows": 2321145
       }
      },
      "text/html": [
       "<div>\n",
       "<style scoped>\n",
       "    .dataframe tbody tr th:only-of-type {\n",
       "        vertical-align: middle;\n",
       "    }\n",
       "\n",
       "    .dataframe tbody tr th {\n",
       "        vertical-align: top;\n",
       "    }\n",
       "\n",
       "    .dataframe thead th {\n",
       "        text-align: right;\n",
       "    }\n",
       "</style>\n",
       "<table border=\"1\" class=\"dataframe\">\n",
       "  <thead>\n",
       "    <tr style=\"text-align: right;\">\n",
       "      <th></th>\n",
       "      <th>velocity</th>\n",
       "      <th>ra</th>\n",
       "      <th>dec</th>\n",
       "      <th>intensity</th>\n",
       "    </tr>\n",
       "  </thead>\n",
       "  <tbody>\n",
       "    <tr>\n",
       "      <th>0</th>\n",
       "      <td>454459.363237</td>\n",
       "      <td>150.238514</td>\n",
       "      <td>2.336732</td>\n",
       "      <td>0.000111</td>\n",
       "    </tr>\n",
       "    <tr>\n",
       "      <th>1</th>\n",
       "      <td>453749.935634</td>\n",
       "      <td>150.238644</td>\n",
       "      <td>2.336732</td>\n",
       "      <td>0.000088</td>\n",
       "    </tr>\n",
       "    <tr>\n",
       "      <th>2</th>\n",
       "      <td>454167.566586</td>\n",
       "      <td>150.238731</td>\n",
       "      <td>2.336732</td>\n",
       "      <td>0.000060</td>\n",
       "    </tr>\n",
       "    <tr>\n",
       "      <th>3</th>\n",
       "      <td>454013.022620</td>\n",
       "      <td>150.238713</td>\n",
       "      <td>2.336732</td>\n",
       "      <td>0.000050</td>\n",
       "    </tr>\n",
       "    <tr>\n",
       "      <th>4</th>\n",
       "      <td>454311.558618</td>\n",
       "      <td>150.238552</td>\n",
       "      <td>2.336732</td>\n",
       "      <td>0.000069</td>\n",
       "    </tr>\n",
       "    <tr>\n",
       "      <th>...</th>\n",
       "      <td>...</td>\n",
       "      <td>...</td>\n",
       "      <td>...</td>\n",
       "      <td>...</td>\n",
       "    </tr>\n",
       "    <tr>\n",
       "      <th>4484829</th>\n",
       "      <td>-610660.618163</td>\n",
       "      <td>150.236117</td>\n",
       "      <td>2.339494</td>\n",
       "      <td>0.000103</td>\n",
       "    </tr>\n",
       "    <tr>\n",
       "      <th>4484830</th>\n",
       "      <td>-610752.543397</td>\n",
       "      <td>150.236251</td>\n",
       "      <td>2.339494</td>\n",
       "      <td>0.000084</td>\n",
       "    </tr>\n",
       "    <tr>\n",
       "      <th>4484831</th>\n",
       "      <td>-610816.118150</td>\n",
       "      <td>150.235991</td>\n",
       "      <td>2.339494</td>\n",
       "      <td>0.000062</td>\n",
       "    </tr>\n",
       "    <tr>\n",
       "      <th>4484832</th>\n",
       "      <td>-610644.380758</td>\n",
       "      <td>150.235972</td>\n",
       "      <td>2.339494</td>\n",
       "      <td>0.000037</td>\n",
       "    </tr>\n",
       "    <tr>\n",
       "      <th>4484833</th>\n",
       "      <td>-611022.924654</td>\n",
       "      <td>150.236210</td>\n",
       "      <td>2.339494</td>\n",
       "      <td>0.000011</td>\n",
       "    </tr>\n",
       "  </tbody>\n",
       "</table>\n",
       "<p>2321145 rows × 4 columns</p>\n",
       "</div>"
      ],
      "text/plain": [
       "              velocity          ra       dec  intensity\n",
       "0        454459.363237  150.238514  2.336732   0.000111\n",
       "1        453749.935634  150.238644  2.336732   0.000088\n",
       "2        454167.566586  150.238731  2.336732   0.000060\n",
       "3        454013.022620  150.238713  2.336732   0.000050\n",
       "4        454311.558618  150.238552  2.336732   0.000069\n",
       "...                ...         ...       ...        ...\n",
       "4484829 -610660.618163  150.236117  2.339494   0.000103\n",
       "4484830 -610752.543397  150.236251  2.339494   0.000084\n",
       "4484831 -610816.118150  150.235991  2.339494   0.000062\n",
       "4484832 -610644.380758  150.235972  2.339494   0.000037\n",
       "4484833 -611022.924654  150.236210  2.339494   0.000011\n",
       "\n",
       "[2321145 rows x 4 columns]"
      ]
     },
     "execution_count": 13,
     "metadata": {},
     "output_type": "execute_result"
    }
   ],
   "source": [
    "df"
   ]
  },
  {
   "cell_type": "code",
   "execution_count": 14,
   "metadata": {},
   "outputs": [
    {
     "name": "stderr",
     "output_type": "stream",
     "text": [
      "MESA: error: ZINK: failed to choose pdev\n",
      "glx: failed to create drisw screen\n"
     ]
    }
   ],
   "source": [
    "def visualize_with_open3d_filtered(df, intensity_min=None, intensity_max=None, velocity_scale=1):\n",
    "    # Filter the DataFrame based on intensity\n",
    "    if intensity_min is not None:\n",
    "        df = df[df['intensity'] >= intensity_min].copy()  # Create a copy here\n",
    "    if intensity_max is not None:\n",
    "        df = df[df['intensity'] <= intensity_max].copy()  # Create a copy here\n",
    "\n",
    "    # Apply standardized scaling to the velocity\n",
    "    df['std_Velocity'] = (df['velocity'] - np.mean(df['velocity'])) / np.std(df['velocity'])\n",
    "    \n",
    "    # Logarithmic Velocity\n",
    "    df[\"log_velocity\"] = np.log(df['velocity'] - df['velocity'].min() + 1e-9)\n",
    "\n",
    "    # Prepare points for visualization (RA, Dec, log-scaled velocity)\n",
    "    points = np.vstack((-df['ra'], df['dec'], df['log_velocity'] * velocity_scale)).T\n",
    "\n",
    "    # Create an Open3D point cloud object\n",
    "    point_cloud = o3d.geometry.PointCloud()\n",
    "    point_cloud.points = o3d.utility.Vector3dVector(points)\n",
    "\n",
    "    # Normalize intensity for color mapping\n",
    "    intensity = (df['intensity'] - df['intensity'].mean()) / df['intensity'].std()\n",
    "    colors = plt.cm.plasma(intensity)[:, :3]\n",
    "\n",
    "    # Apply colors to the point cloud\n",
    "    point_cloud.colors = o3d.utility.Vector3dVector(colors)\n",
    "\n",
    "    # Visualize the point cloud\n",
    "    o3d.visualization.draw_geometries([point_cloud])\n",
    "\n",
    "# Example usage\n",
    "# Assume df is your Pandas DataFrame obtained from the FITS file\n",
    "# df = fits_to_dataframe('your_file.fits')\n",
    "visualize_with_open3d_filtered(df, intensity_min=df['intensity'].quantile(0.95), intensity_max=None, velocity_scale=0.001)"
   ]
  }
 ],
 "metadata": {
  "kernelspec": {
   "display_name": ".venv",
   "language": "python",
   "name": "python3"
  },
  "language_info": {
   "codemirror_mode": {
    "name": "ipython",
    "version": 3
   },
   "file_extension": ".py",
   "mimetype": "text/x-python",
   "name": "python",
   "nbconvert_exporter": "python",
   "pygments_lexer": "ipython3",
   "version": "3.12.3"
  }
 },
 "nbformat": 4,
 "nbformat_minor": 2
}

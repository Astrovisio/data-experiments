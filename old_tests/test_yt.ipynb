{
 "cells": [
  {
   "cell_type": "code",
   "execution_count": 1,
   "metadata": {},
   "outputs": [],
   "source": [
    "import yt\n",
    "import h5py\n",
    "import pynbody\n",
    "import pandas as pd\n",
    "import astropy"
   ]
  },
  {
   "cell_type": "code",
   "execution_count": 2,
   "metadata": {},
   "outputs": [
    {
     "name": "stderr",
     "output_type": "stream",
     "text": [
      "/home/tmassagl/development/pynbody/.venv/lib/python3.12/site-packages/pynbody/snapshot/gadgethdf.py:686: UserWarning: Unable to find cosmological factors in HDF file; assuming position is 3.09e+21 a h**-1\n",
      "  warnings.warn(\"Unable to find cosmological factors in HDF file; assuming position is %s\" % dist_unit)\n",
      "/home/tmassagl/development/pynbody/.venv/lib/python3.12/site-packages/pynbody/snapshot/gadgethdf.py:691: UserWarning: Unable to find cosmological factors in HDF file; assuming velocity is 1.00e+05 a**1/2\n",
      "  warnings.warn(\"Unable to find cosmological factors in HDF file; assuming velocity is %s\" % vel_unit)\n",
      "/home/tmassagl/development/pynbody/.venv/lib/python3.12/site-packages/pynbody/snapshot/gadgethdf.py:449: UserWarning: Masses are either stored in the header or have another dataset name; assuming the cosmological factor h**-1\n",
      "  warnings.warn(\"Masses are either stored in the header or have another dataset name; assuming the cosmological factor %s\" % units.h**-1)\n"
     ]
    },
    {
     "data": {
      "text/plain": [
       "<GadgetHDFSnap \".data/other_data/342447.hdf5\" len=14806224>"
      ]
     },
     "execution_count": 2,
     "metadata": {},
     "output_type": "execute_result"
    }
   ],
   "source": [
    "pynbody.load(\".data/other_data/342447.hdf5\")"
   ]
  },
  {
   "cell_type": "code",
   "execution_count": 25,
   "metadata": {},
   "outputs": [
    {
     "data": {
      "text/plain": [
       "[('stream', 'mass'),\n",
       " ('stream', 'rho'),\n",
       " ('stream', 'x'),\n",
       " ('stream', 'y'),\n",
       " ('stream', 'z')]"
      ]
     },
     "execution_count": 25,
     "metadata": {},
     "output_type": "execute_result"
    }
   ],
   "source": [
    "data.field_list"
   ]
  },
  {
   "cell_type": "code",
   "execution_count": 26,
   "metadata": {},
   "outputs": [],
   "source": [
    "dd = data.all_data()"
   ]
  },
  {
   "cell_type": "code",
   "execution_count": 28,
   "metadata": {},
   "outputs": [
    {
     "ename": "YTFieldNotFound",
     "evalue": "Could not find field ('rho', 'mass') in AMRGridData.\nDid you mean:\n\t('stream', 'mass')",
     "output_type": "error",
     "traceback": [
      "\u001b[0;31m---------------------------------------------------------------------------\u001b[0m",
      "\u001b[0;31mYTFieldNotFound\u001b[0m                           Traceback (most recent call last)",
      "Cell \u001b[0;32mIn[28], line 1\u001b[0m\n\u001b[0;32m----> 1\u001b[0m \u001b[43mdd\u001b[49m\u001b[43m[\u001b[49m\u001b[38;5;124;43m\"\u001b[39;49m\u001b[38;5;124;43mrho\u001b[39;49m\u001b[38;5;124;43m\"\u001b[39;49m\u001b[43m,\u001b[49m\u001b[43m \u001b[49m\u001b[38;5;124;43m\"\u001b[39;49m\u001b[38;5;124;43mmass\u001b[39;49m\u001b[38;5;124;43m\"\u001b[39;49m\u001b[43m]\u001b[49m\n",
      "File \u001b[0;32m~/development/pynbody/.venv/lib/python3.12/site-packages/yt/data_objects/data_containers.py:229\u001b[0m, in \u001b[0;36mYTDataContainer.__getitem__\u001b[0;34m(self, key)\u001b[0m\n\u001b[1;32m    225\u001b[0m \u001b[38;5;28;01mdef\u001b[39;00m\u001b[38;5;250m \u001b[39m\u001b[38;5;21m__getitem__\u001b[39m(\u001b[38;5;28mself\u001b[39m, key):\n\u001b[1;32m    226\u001b[0m \u001b[38;5;250m    \u001b[39m\u001b[38;5;124;03m\"\"\"\u001b[39;00m\n\u001b[1;32m    227\u001b[0m \u001b[38;5;124;03m    Returns a single field.  Will add if necessary.\u001b[39;00m\n\u001b[1;32m    228\u001b[0m \u001b[38;5;124;03m    \"\"\"\u001b[39;00m\n\u001b[0;32m--> 229\u001b[0m     f \u001b[38;5;241m=\u001b[39m \u001b[38;5;28;43mself\u001b[39;49m\u001b[38;5;241;43m.\u001b[39;49m\u001b[43m_determine_fields\u001b[49m\u001b[43m(\u001b[49m\u001b[43m[\u001b[49m\u001b[43mkey\u001b[49m\u001b[43m]\u001b[49m\u001b[43m)\u001b[49m[\u001b[38;5;241m0\u001b[39m]\n\u001b[1;32m    230\u001b[0m     \u001b[38;5;28;01mif\u001b[39;00m f \u001b[38;5;129;01mnot\u001b[39;00m \u001b[38;5;129;01min\u001b[39;00m \u001b[38;5;28mself\u001b[39m\u001b[38;5;241m.\u001b[39mfield_data \u001b[38;5;129;01mand\u001b[39;00m key \u001b[38;5;129;01mnot\u001b[39;00m \u001b[38;5;129;01min\u001b[39;00m \u001b[38;5;28mself\u001b[39m\u001b[38;5;241m.\u001b[39mfield_data:\n\u001b[1;32m    231\u001b[0m         \u001b[38;5;28;01mif\u001b[39;00m f \u001b[38;5;129;01min\u001b[39;00m \u001b[38;5;28mself\u001b[39m\u001b[38;5;241m.\u001b[39m_container_fields:\n",
      "File \u001b[0;32m~/development/pynbody/.venv/lib/python3.12/site-packages/yt/data_objects/data_containers.py:1471\u001b[0m, in \u001b[0;36mYTDataContainer._determine_fields\u001b[0;34m(self, fields)\u001b[0m\n\u001b[1;32m   1468\u001b[0m     explicit_fields\u001b[38;5;241m.\u001b[39mappend(field)\n\u001b[1;32m   1469\u001b[0m     \u001b[38;5;28;01mcontinue\u001b[39;00m\n\u001b[0;32m-> 1471\u001b[0m finfo \u001b[38;5;241m=\u001b[39m \u001b[38;5;28;43mself\u001b[39;49m\u001b[38;5;241;43m.\u001b[39;49m\u001b[43mds\u001b[49m\u001b[38;5;241;43m.\u001b[39;49m\u001b[43m_get_field_info\u001b[49m\u001b[43m(\u001b[49m\u001b[43mfield\u001b[49m\u001b[43m)\u001b[49m\n\u001b[1;32m   1472\u001b[0m ftype, fname \u001b[38;5;241m=\u001b[39m finfo\u001b[38;5;241m.\u001b[39mname\n\u001b[1;32m   1473\u001b[0m \u001b[38;5;66;03m# really ugly check to ensure that this field really does exist somewhere,\u001b[39;00m\n\u001b[1;32m   1474\u001b[0m \u001b[38;5;66;03m# in some naming convention, before returning it as a possible field type\u001b[39;00m\n",
      "File \u001b[0;32m~/development/pynbody/.venv/lib/python3.12/site-packages/yt/data_objects/static_output.py:953\u001b[0m, in \u001b[0;36mDataset._get_field_info\u001b[0;34m(self, field)\u001b[0m\n\u001b[1;32m    948\u001b[0m \u001b[38;5;28;01mdef\u001b[39;00m\u001b[38;5;250m \u001b[39m\u001b[38;5;21m_get_field_info\u001b[39m(\n\u001b[1;32m    949\u001b[0m     \u001b[38;5;28mself\u001b[39m,\n\u001b[1;32m    950\u001b[0m     field: FieldKey \u001b[38;5;241m|\u001b[39m ImplicitFieldKey \u001b[38;5;241m|\u001b[39m DerivedField,\n\u001b[1;32m    951\u001b[0m     \u001b[38;5;241m/\u001b[39m,\n\u001b[1;32m    952\u001b[0m ) \u001b[38;5;241m-\u001b[39m\u001b[38;5;241m>\u001b[39m DerivedField:\n\u001b[0;32m--> 953\u001b[0m     field_info, candidates \u001b[38;5;241m=\u001b[39m \u001b[38;5;28;43mself\u001b[39;49m\u001b[38;5;241;43m.\u001b[39;49m\u001b[43m_get_field_info_helper\u001b[49m\u001b[43m(\u001b[49m\u001b[43mfield\u001b[49m\u001b[43m)\u001b[49m\n\u001b[1;32m    955\u001b[0m     \u001b[38;5;28;01mif\u001b[39;00m field_info\u001b[38;5;241m.\u001b[39mname[\u001b[38;5;241m1\u001b[39m] \u001b[38;5;129;01min\u001b[39;00m (\u001b[38;5;124m\"\u001b[39m\u001b[38;5;124mpx\u001b[39m\u001b[38;5;124m\"\u001b[39m, \u001b[38;5;124m\"\u001b[39m\u001b[38;5;124mpy\u001b[39m\u001b[38;5;124m\"\u001b[39m, \u001b[38;5;124m\"\u001b[39m\u001b[38;5;124mpz\u001b[39m\u001b[38;5;124m\"\u001b[39m, \u001b[38;5;124m\"\u001b[39m\u001b[38;5;124mpdx\u001b[39m\u001b[38;5;124m\"\u001b[39m, \u001b[38;5;124m\"\u001b[39m\u001b[38;5;124mpdy\u001b[39m\u001b[38;5;124m\"\u001b[39m, \u001b[38;5;124m\"\u001b[39m\u001b[38;5;124mpdz\u001b[39m\u001b[38;5;124m\"\u001b[39m):\n\u001b[1;32m    956\u001b[0m         \u001b[38;5;66;03m# escape early as a bandaid solution to\u001b[39;00m\n\u001b[1;32m    957\u001b[0m         \u001b[38;5;66;03m# https://github.com/yt-project/yt/issues/3381\u001b[39;00m\n\u001b[1;32m    958\u001b[0m         \u001b[38;5;28;01mreturn\u001b[39;00m field_info\n",
      "File \u001b[0;32m~/development/pynbody/.venv/lib/python3.12/site-packages/yt/data_objects/static_output.py:1046\u001b[0m, in \u001b[0;36mDataset._get_field_info_helper\u001b[0;34m(self, field)\u001b[0m\n\u001b[1;32m   1043\u001b[0m \u001b[38;5;28;01melif\u001b[39;00m (ftype, fname) \u001b[38;5;129;01min\u001b[39;00m \u001b[38;5;28mself\u001b[39m\u001b[38;5;241m.\u001b[39mfield_info:\n\u001b[1;32m   1044\u001b[0m     \u001b[38;5;28;01mreturn\u001b[39;00m \u001b[38;5;28mself\u001b[39m\u001b[38;5;241m.\u001b[39mfield_info[ftype, fname], []\n\u001b[0;32m-> 1046\u001b[0m \u001b[38;5;28;01mraise\u001b[39;00m YTFieldNotFound(field, ds\u001b[38;5;241m=\u001b[39m\u001b[38;5;28mself\u001b[39m)\n",
      "\u001b[0;31mYTFieldNotFound\u001b[0m: Could not find field ('rho', 'mass') in AMRGridData.\nDid you mean:\n\t('stream', 'mass')"
     ]
    }
   ],
   "source": [
    "dd[\"rho\", \"mass\"]"
   ]
  }
 ],
 "metadata": {
  "kernelspec": {
   "display_name": ".venv",
   "language": "python",
   "name": "python3"
  },
  "language_info": {
   "codemirror_mode": {
    "name": "ipython",
    "version": 3
   },
   "file_extension": ".py",
   "mimetype": "text/x-python",
   "name": "python",
   "nbconvert_exporter": "python",
   "pygments_lexer": "ipython3",
   "version": "3.12.3"
  }
 },
 "nbformat": 4,
 "nbformat_minor": 2
}

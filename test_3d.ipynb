{
 "cells": [
  {
   "cell_type": "code",
   "execution_count": 23,
   "metadata": {},
   "outputs": [],
   "source": [
    "import open3d as o3d\n",
    "import pandas as pd\n",
    "import matplotlib.pyplot as plt\n",
    "import numpy as np"
   ]
  },
  {
   "cell_type": "code",
   "execution_count": 24,
   "metadata": {},
   "outputs": [],
   "source": [
    "df = pd.read_csv(\".data/out/gas_illustris_342447_cut.csv\", index_col=0)"
   ]
  },
  {
   "cell_type": "code",
   "execution_count": 25,
   "metadata": {},
   "outputs": [],
   "source": [
    "df['volume'] = df['mass'] / df['rho']"
   ]
  },
  {
   "cell_type": "code",
   "execution_count": 26,
   "metadata": {},
   "outputs": [
    {
     "data": {
      "text/html": [
       "<div>\n",
       "<style scoped>\n",
       "    .dataframe tbody tr th:only-of-type {\n",
       "        vertical-align: middle;\n",
       "    }\n",
       "\n",
       "    .dataframe tbody tr th {\n",
       "        vertical-align: top;\n",
       "    }\n",
       "\n",
       "    .dataframe thead th {\n",
       "        text-align: right;\n",
       "    }\n",
       "</style>\n",
       "<table border=\"1\" class=\"dataframe\">\n",
       "  <thead>\n",
       "    <tr style=\"text-align: right;\">\n",
       "      <th></th>\n",
       "      <th>x</th>\n",
       "      <th>y</th>\n",
       "      <th>z</th>\n",
       "      <th>mass</th>\n",
       "      <th>rho</th>\n",
       "      <th>volume</th>\n",
       "    </tr>\n",
       "  </thead>\n",
       "  <tbody>\n",
       "    <tr>\n",
       "      <th>0</th>\n",
       "      <td>-1.180393</td>\n",
       "      <td>33.829222</td>\n",
       "      <td>54.257298</td>\n",
       "      <td>109421.752279</td>\n",
       "      <td>1.189143e+05</td>\n",
       "      <td>0.920173</td>\n",
       "    </tr>\n",
       "    <tr>\n",
       "      <th>1</th>\n",
       "      <td>-1.596977</td>\n",
       "      <td>34.089826</td>\n",
       "      <td>53.794923</td>\n",
       "      <td>87767.745425</td>\n",
       "      <td>1.453919e+05</td>\n",
       "      <td>0.603663</td>\n",
       "    </tr>\n",
       "    <tr>\n",
       "      <th>2</th>\n",
       "      <td>-1.386956</td>\n",
       "      <td>33.733296</td>\n",
       "      <td>53.017417</td>\n",
       "      <td>151299.331578</td>\n",
       "      <td>1.366619e+05</td>\n",
       "      <td>1.107107</td>\n",
       "    </tr>\n",
       "    <tr>\n",
       "      <th>3</th>\n",
       "      <td>-1.994440</td>\n",
       "      <td>33.647608</td>\n",
       "      <td>53.058001</td>\n",
       "      <td>91647.574980</td>\n",
       "      <td>1.518111e+05</td>\n",
       "      <td>0.603695</td>\n",
       "    </tr>\n",
       "    <tr>\n",
       "      <th>4</th>\n",
       "      <td>-1.609248</td>\n",
       "      <td>34.015530</td>\n",
       "      <td>52.758957</td>\n",
       "      <td>119352.251297</td>\n",
       "      <td>2.176427e+05</td>\n",
       "      <td>0.548386</td>\n",
       "    </tr>\n",
       "    <tr>\n",
       "      <th>...</th>\n",
       "      <td>...</td>\n",
       "      <td>...</td>\n",
       "      <td>...</td>\n",
       "      <td>...</td>\n",
       "      <td>...</td>\n",
       "      <td>...</td>\n",
       "    </tr>\n",
       "    <tr>\n",
       "      <th>642243</th>\n",
       "      <td>1.046497</td>\n",
       "      <td>2.508219</td>\n",
       "      <td>0.754855</td>\n",
       "      <td>98078.916011</td>\n",
       "      <td>3.280499e+06</td>\n",
       "      <td>0.029898</td>\n",
       "    </tr>\n",
       "    <tr>\n",
       "      <th>642244</th>\n",
       "      <td>-1.451553</td>\n",
       "      <td>-1.702542</td>\n",
       "      <td>2.298496</td>\n",
       "      <td>153681.481843</td>\n",
       "      <td>2.245550e+05</td>\n",
       "      <td>0.684382</td>\n",
       "    </tr>\n",
       "    <tr>\n",
       "      <th>642245</th>\n",
       "      <td>0.545694</td>\n",
       "      <td>1.535612</td>\n",
       "      <td>1.019890</td>\n",
       "      <td>117558.235215</td>\n",
       "      <td>4.194388e+06</td>\n",
       "      <td>0.028028</td>\n",
       "    </tr>\n",
       "    <tr>\n",
       "      <th>642246</th>\n",
       "      <td>-0.349543</td>\n",
       "      <td>1.255493</td>\n",
       "      <td>0.629715</td>\n",
       "      <td>138616.506408</td>\n",
       "      <td>3.302689e+06</td>\n",
       "      <td>0.041971</td>\n",
       "    </tr>\n",
       "    <tr>\n",
       "      <th>642247</th>\n",
       "      <td>0.267881</td>\n",
       "      <td>1.241983</td>\n",
       "      <td>1.069029</td>\n",
       "      <td>82071.457966</td>\n",
       "      <td>8.792426e+06</td>\n",
       "      <td>0.009334</td>\n",
       "    </tr>\n",
       "  </tbody>\n",
       "</table>\n",
       "<p>642248 rows × 6 columns</p>\n",
       "</div>"
      ],
      "text/plain": [
       "               x          y          z           mass           rho    volume\n",
       "0      -1.180393  33.829222  54.257298  109421.752279  1.189143e+05  0.920173\n",
       "1      -1.596977  34.089826  53.794923   87767.745425  1.453919e+05  0.603663\n",
       "2      -1.386956  33.733296  53.017417  151299.331578  1.366619e+05  1.107107\n",
       "3      -1.994440  33.647608  53.058001   91647.574980  1.518111e+05  0.603695\n",
       "4      -1.609248  34.015530  52.758957  119352.251297  2.176427e+05  0.548386\n",
       "...          ...        ...        ...            ...           ...       ...\n",
       "642243  1.046497   2.508219   0.754855   98078.916011  3.280499e+06  0.029898\n",
       "642244 -1.451553  -1.702542   2.298496  153681.481843  2.245550e+05  0.684382\n",
       "642245  0.545694   1.535612   1.019890  117558.235215  4.194388e+06  0.028028\n",
       "642246 -0.349543   1.255493   0.629715  138616.506408  3.302689e+06  0.041971\n",
       "642247  0.267881   1.241983   1.069029   82071.457966  8.792426e+06  0.009334\n",
       "\n",
       "[642248 rows x 6 columns]"
      ]
     },
     "execution_count": 26,
     "metadata": {},
     "output_type": "execute_result"
    }
   ],
   "source": [
    "df"
   ]
  },
  {
   "cell_type": "code",
   "execution_count": 27,
   "metadata": {},
   "outputs": [],
   "source": [
    "pcd = o3d.geometry.PointCloud()"
   ]
  },
  {
   "cell_type": "code",
   "execution_count": 28,
   "metadata": {},
   "outputs": [],
   "source": [
    "pcd.points = o3d.utility.Vector3dVector(df.iloc[:,:3].values.tolist())"
   ]
  },
  {
   "cell_type": "code",
   "execution_count": 29,
   "metadata": {},
   "outputs": [],
   "source": [
    "volume = df['volume'].values\n",
    "volume_normalized = (volume - volume.min()) / (volume.max() - volume.min())\n",
    "colors = plt.cm.plasma(volume)[:, :3]  # Use a colormap (e.g., viridis)\n",
    "pcd.colors = o3d.utility.Vector3dVector(colors)"
   ]
  },
  {
   "cell_type": "code",
   "execution_count": 31,
   "metadata": {},
   "outputs": [
    {
     "name": "stderr",
     "output_type": "stream",
     "text": [
      "MESA: error: ZINK: failed to choose pdev\n",
      "glx: failed to create drisw screen\n"
     ]
    }
   ],
   "source": [
    "o3d.visualization.draw_geometries([pcd])"
   ]
  }
 ],
 "metadata": {
  "kernelspec": {
   "display_name": ".venv",
   "language": "python",
   "name": "python3"
  },
  "language_info": {
   "codemirror_mode": {
    "name": "ipython",
    "version": 3
   },
   "file_extension": ".py",
   "mimetype": "text/x-python",
   "name": "python",
   "nbconvert_exporter": "python",
   "pygments_lexer": "ipython3",
   "version": "3.12.3"
  }
 },
 "nbformat": 4,
 "nbformat_minor": 2
}

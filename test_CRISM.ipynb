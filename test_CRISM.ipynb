{
 "cells": [
  {
   "cell_type": "code",
   "execution_count": 9,
   "metadata": {},
   "outputs": [],
   "source": [
    "import yt"
   ]
  },
  {
   "cell_type": "code",
   "execution_count": 10,
   "metadata": {},
   "outputs": [
    {
     "ename": "YTUnidentifiedDataType",
     "evalue": "Could not determine input format from '.data/frt000144ff_07_if164j_mtr3/if'\nThe following types could not be thorougly checked against your data because their requirements are missing. You may want to inspect this list and check your installation:\n- CFRadialDataset (requires: xarray, pyart)\n- CM1Dataset (requires: netCDF4)\n- EnzoEDataset (requires: libconf)\n- ExodusIIDataset (requires: netCDF4)\n\nPlease make sure you are running a sufficiently recent version of yt.",
     "output_type": "error",
     "traceback": [
      "\u001b[0;31m---------------------------------------------------------------------------\u001b[0m",
      "\u001b[0;31mYTUnidentifiedDataType\u001b[0m                    Traceback (most recent call last)",
      "Cell \u001b[0;32mIn[10], line 1\u001b[0m\n\u001b[0;32m----> 1\u001b[0m \u001b[43myt\u001b[49m\u001b[38;5;241;43m.\u001b[39;49m\u001b[43mload\u001b[49m\u001b[43m(\u001b[49m\u001b[38;5;124;43m\"\u001b[39;49m\u001b[38;5;124;43m.data/frt000144ff_07_if164j_mtr3/if\u001b[39;49m\u001b[38;5;124;43m\"\u001b[39;49m\u001b[43m)\u001b[49m\n",
      "File \u001b[0;32m~/development/pynbody/.venv/lib/python3.12/site-packages/yt/_maintenance/deprecation.py:68\u001b[0m, in \u001b[0;36mfuture_positional_only.<locals>.outer.<locals>.inner\u001b[0;34m(*args, **kwargs)\u001b[0m\n\u001b[1;32m     59\u001b[0m     value \u001b[38;5;241m=\u001b[39m kwargs[name]\n\u001b[1;32m     60\u001b[0m     issue_deprecation_warning(\n\u001b[1;32m     61\u001b[0m         \u001b[38;5;124mf\u001b[39m\u001b[38;5;124m\"\u001b[39m\u001b[38;5;124mUsing the \u001b[39m\u001b[38;5;132;01m{\u001b[39;00mname\u001b[38;5;132;01m!r}\u001b[39;00m\u001b[38;5;124m argument as keyword (on position \u001b[39m\u001b[38;5;132;01m{\u001b[39;00mno\u001b[38;5;132;01m}\u001b[39;00m\u001b[38;5;124m) \u001b[39m\u001b[38;5;124m\"\u001b[39m\n\u001b[1;32m     62\u001b[0m         \u001b[38;5;124m\"\u001b[39m\u001b[38;5;124mis deprecated. \u001b[39m\u001b[38;5;124m\"\u001b[39m\n\u001b[0;32m   (...)\u001b[0m\n\u001b[1;32m     66\u001b[0m         \u001b[38;5;241m*\u001b[39m\u001b[38;5;241m*\u001b[39mdepr_kwargs,\n\u001b[1;32m     67\u001b[0m     )\n\u001b[0;32m---> 68\u001b[0m \u001b[38;5;28;01mreturn\u001b[39;00m \u001b[43mfunc\u001b[49m\u001b[43m(\u001b[49m\u001b[38;5;241;43m*\u001b[39;49m\u001b[43margs\u001b[49m\u001b[43m,\u001b[49m\u001b[43m \u001b[49m\u001b[38;5;241;43m*\u001b[39;49m\u001b[38;5;241;43m*\u001b[39;49m\u001b[43mkwargs\u001b[49m\u001b[43m)\u001b[49m\n",
      "File \u001b[0;32m~/development/pynbody/.venv/lib/python3.12/site-packages/yt/loaders.py:146\u001b[0m, in \u001b[0;36mload\u001b[0;34m(fn, hint, *args, **kwargs)\u001b[0m\n\u001b[1;32m    143\u001b[0m \u001b[38;5;28;01mif\u001b[39;00m \u001b[38;5;28mlen\u001b[39m(candidates) \u001b[38;5;241m>\u001b[39m \u001b[38;5;241m1\u001b[39m:\n\u001b[1;32m    144\u001b[0m     \u001b[38;5;28;01mraise\u001b[39;00m YTAmbiguousDataType(_input_fn, candidates)\n\u001b[0;32m--> 146\u001b[0m \u001b[38;5;28;01mraise\u001b[39;00m YTUnidentifiedDataType(_input_fn, \u001b[38;5;241m*\u001b[39margs, \u001b[38;5;241m*\u001b[39m\u001b[38;5;241m*\u001b[39mkwargs)\n",
      "\u001b[0;31mYTUnidentifiedDataType\u001b[0m: Could not determine input format from '.data/frt000144ff_07_if164j_mtr3/if'\nThe following types could not be thorougly checked against your data because their requirements are missing. You may want to inspect this list and check your installation:\n- CFRadialDataset (requires: xarray, pyart)\n- CM1Dataset (requires: netCDF4)\n- EnzoEDataset (requires: libconf)\n- ExodusIIDataset (requires: netCDF4)\n\nPlease make sure you are running a sufficiently recent version of yt."
     ]
    }
   ],
   "source": [
    "yt.load(\".data/frt000144ff_07_if164j_mtr3/if\")"
   ]
  }
 ],
 "metadata": {
  "kernelspec": {
   "display_name": ".venv",
   "language": "python",
   "name": "python3"
  },
  "language_info": {
   "codemirror_mode": {
    "name": "ipython",
    "version": 3
   },
   "file_extension": ".py",
   "mimetype": "text/x-python",
   "name": "python",
   "nbconvert_exporter": "python",
   "pygments_lexer": "ipython3",
   "version": "3.12.3"
  }
 },
 "nbformat": 4,
 "nbformat_minor": 2
}

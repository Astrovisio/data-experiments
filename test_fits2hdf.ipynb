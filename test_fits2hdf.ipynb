{
 "cells": [
  {
   "cell_type": "code",
   "execution_count": 1,
   "metadata": {},
   "outputs": [
    {
     "name": "stdout",
     "output_type": "stream",
     "text": [
      "Jupyter environment detected. Enabling Open3D WebVisualizer.\n",
      "[Open3D INFO] WebRTC GUI backend enabled.\n",
      "[Open3D INFO] WebRTCWindowSystem: HTTP handshake server disabled.\n"
     ]
    }
   ],
   "source": [
    "import pandas as pd\n",
    "from spectral_cube import SpectralCube\n",
    "import numpy as np\n",
    "import open3d as o3d\n",
    "import matplotlib.pyplot as plt"
   ]
  },
  {
   "cell_type": "code",
   "execution_count": 2,
   "metadata": {},
   "outputs": [],
   "source": [
    "fits_path = \".data/spw17.CI.clean.freq.fits\""
   ]
  },
  {
   "cell_type": "code",
   "execution_count": 3,
   "metadata": {},
   "outputs": [],
   "source": [
    "def fits_to_dataframe_sequential(fits_file):\n",
    "    cube = SpectralCube.read(fits_file)\n",
    "    \n",
    "    df_list = []\n",
    "\n",
    "    # Iterate over the spectral axis (velocity axis)\n",
    "    for i in range(cube.shape[0]):\n",
    "        # Slice one spectral frame at a time\n",
    "        slab = cube[i, :, :]  # shape: (y, x)\n",
    "\n",
    "        # Get world coordinates for this frame\n",
    "        world = slab.wcs.pixel_to_world_values(\n",
    "            *np.meshgrid(np.arange(cube.shape[2]),  # x (RA)\n",
    "                         np.arange(cube.shape[1]),  # y (Dec)\n",
    "                         indexing='xy')\n",
    "        )\n",
    "\n",
    "        ra = world[0].flatten()\n",
    "        dec = world[1].flatten()\n",
    "        velo = cube.spectral_axis[i].value  # Single velocity value for this slice\n",
    "        intensity = slab.filled_data[:].value.flatten()\n",
    "\n",
    "        # Build DataFrame for this slab\n",
    "        df_slice = pd.DataFrame({\n",
    "            'Velocity': velo,\n",
    "            'RA': ra,\n",
    "            'Dec': dec,\n",
    "            'Intensity': intensity\n",
    "        })\n",
    "\n",
    "        df_list.append(df_slice)\n",
    "\n",
    "    return pd.concat(df_list, ignore_index=True)\n"
   ]
  },
  {
   "cell_type": "code",
   "execution_count": 4,
   "metadata": {},
   "outputs": [
    {
     "name": "stderr",
     "output_type": "stream",
     "text": [
      "WARNING: StokesWarning: Cube is a Stokes cube, returning spectral cube for I component [spectral_cube.io.core]\n"
     ]
    }
   ],
   "source": [
    "df = fits_to_dataframe_sequential(fits_path)\n",
    "df = df[df[\"Intensity\"]>0]"
   ]
  },
  {
   "cell_type": "code",
   "execution_count": 5,
   "metadata": {},
   "outputs": [
    {
     "data": {
      "application/vnd.microsoft.datawrangler.viewer.v0+json": {
       "columns": [
        {
         "name": "index",
         "rawType": "int64",
         "type": "integer"
        },
        {
         "name": "Velocity",
         "rawType": "float64",
         "type": "float"
        },
        {
         "name": "RA",
         "rawType": "float64",
         "type": "float"
        },
        {
         "name": "Dec",
         "rawType": "float64",
         "type": "float"
        },
        {
         "name": "Intensity",
         "rawType": "float32",
         "type": "float"
        }
       ],
       "conversionMethod": "pd.DataFrame",
       "ref": "c6f60b11-3758-4486-b70d-de6b2274920c",
       "rows": [
        [
         "7200008",
         "143414556506.871",
         "132.3949266213186",
         "2.239444433100428",
         "1.5070947e-07"
        ],
        [
         "7200009",
         "143414556506.871",
         "132.39491689166533",
         "2.239444433138681",
         "1.8759258e-07"
        ],
        [
         "7200019",
         "143414556506.871",
         "132.39481959513262",
         "2.2394444335177006",
         "4.076169e-05"
        ],
        [
         "7200020",
         "143414556506.871",
         "132.39480986547932",
         "2.2394444335552617",
         "6.182483e-05"
        ],
        [
         "7200021",
         "143414556506.871",
         "132.39480013582607",
         "2.2394444335927393",
         "6.0524948e-05"
        ],
        [
         "7200022",
         "143414556506.871",
         "132.39479040617277",
         "2.239444433630165",
         "5.4642333e-05"
        ],
        [
         "7200023",
         "143414556506.871",
         "132.3947806765195",
         "2.2394444336675194",
         "6.085567e-05"
        ],
        [
         "7200024",
         "143414556506.871",
         "132.39477094686623",
         "2.2394444337048043",
         "8.467779e-05"
        ],
        [
         "7200025",
         "143414556506.871",
         "132.394761217213",
         "2.2394444337420176",
         "0.000116792355"
        ],
        [
         "7200026",
         "143414556506.871",
         "132.39475148755972",
         "2.239444433779186",
         "0.00013752836"
        ],
        [
         "7200027",
         "143414556506.871",
         "132.39474175790644",
         "2.2394444338162707",
         "0.0001289565"
        ],
        [
         "7200028",
         "143414556506.871",
         "132.39473202825315",
         "2.2394444338533215",
         "8.8947505e-05"
        ],
        [
         "7200029",
         "143414556506.871",
         "132.39472229859987",
         "2.2394444338902892",
         "3.6428853e-05"
        ],
        [
         "7200030",
         "143414556506.871",
         "132.39471256894663",
         "2.239444433927178",
         "6.5421847e-07"
        ],
        [
         "7200031",
         "143414556506.871",
         "132.39470283929336",
         "2.2394444339639987",
         "7.483326e-07"
        ],
        [
         "7200032",
         "143414556506.871",
         "132.3946931096401",
         "2.2394444340007937",
         "3.2399566e-05"
        ],
        [
         "7200033",
         "143414556506.871",
         "132.39468337998682",
         "2.2394444340374977",
         "7.3090436e-05"
        ],
        [
         "7200034",
         "143414556506.871",
         "132.39467365033354",
         "2.23944443407413",
         "9.981702e-05"
        ],
        [
         "7200035",
         "143414556506.871",
         "132.39466392068027",
         "2.2394444341107107",
         "0.000102664206"
        ],
        [
         "7200036",
         "143414556506.871",
         "132.394654191027",
         "2.2394444341472113",
         "8.491211e-05"
        ],
        [
         "7200037",
         "143414556506.871",
         "132.39464446137373",
         "2.2394444341836675",
         "5.527318e-05"
        ],
        [
         "7200038",
         "143414556506.871",
         "132.39463473172046",
         "2.23944443422005",
         "2.2531654e-05"
        ],
        [
         "7200044",
         "143414556506.871",
         "132.39457635380086",
         "2.2394444344369853",
         "3.040377e-05"
        ],
        [
         "7200045",
         "143414556506.871",
         "132.3945666241476",
         "2.2394444344729254",
         "8.449278e-05"
        ],
        [
         "7200046",
         "143414556506.871",
         "132.39455689449431",
         "2.2394444345087865",
         "0.0001456309"
        ],
        [
         "7200047",
         "143414556506.871",
         "132.39454716484104",
         "2.239444434544591",
         "0.00018498069"
        ],
        [
         "7200048",
         "143414556506.871",
         "132.3945374351878",
         "2.2394444345803124",
         "0.00017772938"
        ],
        [
         "7200049",
         "143414556506.871",
         "132.39452770553453",
         "2.239444434615992",
         "0.00012578373"
        ],
        [
         "7200050",
         "143414556506.871",
         "132.39451797588126",
         "2.2394444346516016",
         "5.9040853e-05"
        ],
        [
         "7200051",
         "143414556506.871",
         "132.39450824622799",
         "2.2394444346871447",
         "1.1854967e-05"
        ],
        [
         "7200053",
         "143414556506.871",
         "132.39448878692147",
         "2.2394444347580325",
         "6.3762873e-06"
        ],
        [
         "7200054",
         "143414556506.871",
         "132.39447905726817",
         "2.2394444347933975",
         "2.093971e-05"
        ],
        [
         "7200055",
         "143414556506.871",
         "132.39446932761493",
         "2.2394444348286697",
         "3.4081317e-05"
        ],
        [
         "7200056",
         "143414556506.871",
         "132.39445959796166",
         "2.239444434863887",
         "4.683007e-05"
        ],
        [
         "7200057",
         "143414556506.871",
         "132.3944498683084",
         "2.23944443489903",
         "5.8971116e-05"
        ],
        [
         "7200058",
         "143414556506.871",
         "132.39444013865514",
         "2.2394444349341267",
         "6.702275e-05"
        ],
        [
         "7200059",
         "143414556506.871",
         "132.39443040900187",
         "2.239444434969158",
         "7.1065166e-05"
        ],
        [
         "7200060",
         "143414556506.871",
         "132.3944206793486",
         "2.239444435004113",
         "7.674116e-05"
        ],
        [
         "7200061",
         "143414556506.871",
         "132.39441094969533",
         "2.239444435039009",
         "8.5651336e-05"
        ],
        [
         "7200062",
         "143414556506.871",
         "132.39440122004206",
         "2.239444435073846",
         "8.6287444e-05"
        ],
        [
         "7200063",
         "143414556506.871",
         "132.39439149038878",
         "2.239444435108611",
         "6.107309e-05"
        ],
        [
         "7200064",
         "143414556506.871",
         "132.39438176073554",
         "2.239444435143305",
         "5.9565004e-06"
        ],
        [
         "7200070",
         "143414556506.871",
         "132.39432338281594",
         "2.239444435350159",
         "3.2725533e-05"
        ],
        [
         "7200071",
         "143414556506.871",
         "132.3943136531627",
         "2.239444435384402",
         "4.0200805e-05"
        ],
        [
         "7200072",
         "143414556506.871",
         "132.39430392350943",
         "2.2394444354185934",
         "2.0242576e-05"
        ],
        [
         "7200076",
         "143414556506.871",
         "132.39426500489637",
         "2.239444435554684",
         "4.1920885e-05"
        ],
        [
         "7200077",
         "143414556506.871",
         "132.3942552752431",
         "2.239444435588543",
         "8.316501e-05"
        ],
        [
         "7200078",
         "143414556506.871",
         "132.39424554558985",
         "2.239444435622332",
         "9.755656e-05"
        ],
        [
         "7200079",
         "143414556506.871",
         "132.39423581593658",
         "2.2394444356560683",
         "8.460353e-05"
        ],
        [
         "7200080",
         "143414556506.871",
         "132.3942260862833",
         "2.2394444356897476",
         "6.5920794e-05"
        ]
       ],
       "shape": {
        "columns": 4,
        "rows": 85711579
       }
      },
      "text/html": [
       "<div>\n",
       "<style scoped>\n",
       "    .dataframe tbody tr th:only-of-type {\n",
       "        vertical-align: middle;\n",
       "    }\n",
       "\n",
       "    .dataframe tbody tr th {\n",
       "        vertical-align: top;\n",
       "    }\n",
       "\n",
       "    .dataframe thead th {\n",
       "        text-align: right;\n",
       "    }\n",
       "</style>\n",
       "<table border=\"1\" class=\"dataframe\">\n",
       "  <thead>\n",
       "    <tr style=\"text-align: right;\">\n",
       "      <th></th>\n",
       "      <th>Velocity</th>\n",
       "      <th>RA</th>\n",
       "      <th>Dec</th>\n",
       "      <th>Intensity</th>\n",
       "    </tr>\n",
       "  </thead>\n",
       "  <tbody>\n",
       "    <tr>\n",
       "      <th>7200008</th>\n",
       "      <td>1.434146e+11</td>\n",
       "      <td>132.394927</td>\n",
       "      <td>2.239444</td>\n",
       "      <td>1.507095e-07</td>\n",
       "    </tr>\n",
       "    <tr>\n",
       "      <th>7200009</th>\n",
       "      <td>1.434146e+11</td>\n",
       "      <td>132.394917</td>\n",
       "      <td>2.239444</td>\n",
       "      <td>1.875926e-07</td>\n",
       "    </tr>\n",
       "    <tr>\n",
       "      <th>7200019</th>\n",
       "      <td>1.434146e+11</td>\n",
       "      <td>132.394820</td>\n",
       "      <td>2.239444</td>\n",
       "      <td>4.076169e-05</td>\n",
       "    </tr>\n",
       "    <tr>\n",
       "      <th>7200020</th>\n",
       "      <td>1.434146e+11</td>\n",
       "      <td>132.394810</td>\n",
       "      <td>2.239444</td>\n",
       "      <td>6.182483e-05</td>\n",
       "    </tr>\n",
       "    <tr>\n",
       "      <th>7200021</th>\n",
       "      <td>1.434146e+11</td>\n",
       "      <td>132.394800</td>\n",
       "      <td>2.239444</td>\n",
       "      <td>6.052495e-05</td>\n",
       "    </tr>\n",
       "    <tr>\n",
       "      <th>...</th>\n",
       "      <td>...</td>\n",
       "      <td>...</td>\n",
       "      <td>...</td>\n",
       "      <td>...</td>\n",
       "    </tr>\n",
       "    <tr>\n",
       "      <th>178559987</th>\n",
       "      <td>1.452584e+11</td>\n",
       "      <td>132.383455</td>\n",
       "      <td>2.251101</td>\n",
       "      <td>1.614566e-04</td>\n",
       "    </tr>\n",
       "    <tr>\n",
       "      <th>178559988</th>\n",
       "      <td>1.452584e+11</td>\n",
       "      <td>132.383446</td>\n",
       "      <td>2.251101</td>\n",
       "      <td>1.474867e-04</td>\n",
       "    </tr>\n",
       "    <tr>\n",
       "      <th>178559989</th>\n",
       "      <td>1.452584e+11</td>\n",
       "      <td>132.383436</td>\n",
       "      <td>2.251101</td>\n",
       "      <td>1.095917e-04</td>\n",
       "    </tr>\n",
       "    <tr>\n",
       "      <th>178559990</th>\n",
       "      <td>1.452584e+11</td>\n",
       "      <td>132.383426</td>\n",
       "      <td>2.251101</td>\n",
       "      <td>6.442113e-05</td>\n",
       "    </tr>\n",
       "    <tr>\n",
       "      <th>178559991</th>\n",
       "      <td>1.452584e+11</td>\n",
       "      <td>132.383416</td>\n",
       "      <td>2.251101</td>\n",
       "      <td>2.566126e-05</td>\n",
       "    </tr>\n",
       "  </tbody>\n",
       "</table>\n",
       "<p>85711579 rows × 4 columns</p>\n",
       "</div>"
      ],
      "text/plain": [
       "               Velocity          RA       Dec     Intensity\n",
       "7200008    1.434146e+11  132.394927  2.239444  1.507095e-07\n",
       "7200009    1.434146e+11  132.394917  2.239444  1.875926e-07\n",
       "7200019    1.434146e+11  132.394820  2.239444  4.076169e-05\n",
       "7200020    1.434146e+11  132.394810  2.239444  6.182483e-05\n",
       "7200021    1.434146e+11  132.394800  2.239444  6.052495e-05\n",
       "...                 ...         ...       ...           ...\n",
       "178559987  1.452584e+11  132.383455  2.251101  1.614566e-04\n",
       "178559988  1.452584e+11  132.383446  2.251101  1.474867e-04\n",
       "178559989  1.452584e+11  132.383436  2.251101  1.095917e-04\n",
       "178559990  1.452584e+11  132.383426  2.251101  6.442113e-05\n",
       "178559991  1.452584e+11  132.383416  2.251101  2.566126e-05\n",
       "\n",
       "[85711579 rows x 4 columns]"
      ]
     },
     "execution_count": 5,
     "metadata": {},
     "output_type": "execute_result"
    }
   ],
   "source": [
    "df"
   ]
  },
  {
   "cell_type": "code",
   "execution_count": 8,
   "metadata": {},
   "outputs": [
    {
     "name": "stderr",
     "output_type": "stream",
     "text": [
      "MESA: error: ZINK: failed to choose pdev\n",
      "glx: failed to create drisw screen\n"
     ]
    }
   ],
   "source": [
    "def visualize_with_open3d_filtered(df, intensity_min=None, intensity_max=None, velocity_scale=1):\n",
    "    # Filter the DataFrame based on intensity\n",
    "    if intensity_min is not None:\n",
    "        df = df[df['Intensity'] >= intensity_min].copy()  # Create a copy here\n",
    "    if intensity_max is not None:\n",
    "        df = df[df['Intensity'] <= intensity_max].copy()  # Create a copy here\n",
    "\n",
    "    # Apply standardized scaling to the velocity\n",
    "    df['std_Velocity'] = (df['Velocity'] - np.mean(df['Velocity'])) / np.std(df['Velocity'])\n",
    "    \n",
    "    # Logarithmic Velocity\n",
    "    df[\"log_velocity\"] = np.log(df['Velocity'] - df['Velocity'].min() + 1e-9)\n",
    "\n",
    "    # Prepare points for visualization (RA, Dec, log-scaled velocity)\n",
    "    points = np.vstack((-df['RA'], df['Dec'], df['log_velocity'] * velocity_scale)).T\n",
    "\n",
    "    # Create an Open3D point cloud object\n",
    "    point_cloud = o3d.geometry.PointCloud()\n",
    "    point_cloud.points = o3d.utility.Vector3dVector(points)\n",
    "\n",
    "    # Normalize intensity for color mapping\n",
    "    intensity = (df['Intensity'] - df['Intensity'].mean()) / df['Intensity'].std()\n",
    "    colors = plt.cm.plasma(intensity)[:, :3]\n",
    "\n",
    "    # Apply colors to the point cloud\n",
    "    point_cloud.colors = o3d.utility.Vector3dVector(colors)\n",
    "\n",
    "    # Visualize the point cloud\n",
    "    o3d.visualization.draw_geometries([point_cloud])\n",
    "\n",
    "# Example usage\n",
    "# Assume df is your Pandas DataFrame obtained from the FITS file\n",
    "# df = fits_to_dataframe('your_file.fits')\n",
    "visualize_with_open3d_filtered(df, intensity_min=df['Intensity'].quantile(0.995), intensity_max=None, velocity_scale=0.001)"
   ]
  }
 ],
 "metadata": {
  "kernelspec": {
   "display_name": ".venv",
   "language": "python",
   "name": "python3"
  },
  "language_info": {
   "codemirror_mode": {
    "name": "ipython",
    "version": 3
   },
   "file_extension": ".py",
   "mimetype": "text/x-python",
   "name": "python",
   "nbconvert_exporter": "python",
   "pygments_lexer": "ipython3",
   "version": "3.12.3"
  }
 },
 "nbformat": 4,
 "nbformat_minor": 2
}

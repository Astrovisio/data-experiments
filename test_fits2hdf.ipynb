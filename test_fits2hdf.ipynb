{
 "cells": [
  {
   "cell_type": "code",
   "execution_count": 253,
   "metadata": {},
   "outputs": [],
   "source": [
    "from astropy.io import fits\n",
    "import numpy as np\n",
    "from numpy import fft\n",
    "import pandas as pd\n",
    "import open3d as o3d\n",
    "import matplotlib.pyplot as plt\n",
    "from astropy import units as u\n",
    "from spectral_cube import SpectralCube"
   ]
  },
  {
   "cell_type": "code",
   "execution_count": 216,
   "metadata": {},
   "outputs": [],
   "source": [
    "hdul = fits.open(\".data/other_data/ngc2403.fits\")"
   ]
  },
  {
   "cell_type": "code",
   "execution_count": 259,
   "metadata": {},
   "outputs": [],
   "source": [
    "# Extract a 3D point cloud from a FITS file containing hyperspectral data.\n",
    "# \n",
    "# Parameters:\n",
    "# - fits_path (str): Path to the FITS file.\n",
    "# - intensity_threshold (float): Minimum intensity value to consider a point.\n",
    "# - spatial_scale (float): Conversion factor from pixels to physical spatial units.\n",
    "# - velocity_scale (float): Conversion factor from channels to velocity units.\n",
    "# - velocity_offset (float): Velocity value corresponding to channel 0.\n",
    "# \n",
    "# Returns:\n",
    "# - np.ndarray: Nx3 array representing the 3D point cloud (x, y, v).\n",
    "\n",
    "fits_path = \".data/other_data/ngc2403.fits\"\n",
    "intensity_threshold=0.001 \n",
    "spatial_scale=0.5, \n",
    "velocity_scale=1.0, \n",
    "velocity_offset=0.0\n",
    "\n",
    "# Load data from FITS file\n",
    "hdul = fits.open(fits_path)\n",
    "data_cube = hdul[0].data.copy()\n",
    "header = hdul[0].header.copy()\n",
    "\n",
    "\n",
    "# Assuming data_cube is (velocity, y, x)\n",
    "indices = np.argwhere(data_cube > intensity_threshold)\n",
    "\n",
    "# Extract positions and velocities\n",
    "x_coords = indices[:, 2] * spatial_scale\n",
    "y_coords = indices[:, 1] * spatial_scale\n",
    "velocities = indices[:, 0] * velocity_scale + velocity_offset\n",
    "intensities = data_cube[indices[:, 0], indices[:, 1], indices[:, 2]]\n",
    "\n",
    "# Combine into point cloud\n",
    "pc = np.column_stack((x_coords, y_coords, velocities, intensities))"
   ]
  },
  {
   "cell_type": "code",
   "execution_count": null,
   "metadata": {},
   "outputs": [],
   "source": [
    "# velocity_kms = hdul[0].data[3]\n",
    "# velocity_ms = (velocity_kms * u.km / u.s).to(u.m / u.s).value  \n",
    "# hdul[0].data[3] = velocity_ms\n",
    "# \n",
    "# hdul[0].header['CUNIT3'] = \"m/s\"\n",
    "# \n",
    "# hdul.writeto('.data/other_data/ngc2403_fixed.fits', overwrite=True)"
   ]
  },
  {
   "cell_type": "code",
   "execution_count": 265,
   "metadata": {},
   "outputs": [],
   "source": [
    "cube = SpectralCube.read(\".data/other_data/ngc2403_fixed.fits\")"
   ]
  },
  {
   "cell_type": "code",
   "execution_count": null,
   "metadata": {},
   "outputs": [
    {
     "ename": "AttributeError",
     "evalue": "(\"Header's '%s' card is missing, but required for this operation.\", 'CUNIT3CDELT3')",
     "output_type": "error",
     "traceback": [
      "\u001b[0;31m---------------------------------------------------------------------------\u001b[0m",
      "\u001b[0;31mAttributeError\u001b[0m                            Traceback (most recent call last)",
      "Cell \u001b[0;32mIn[240], line 1\u001b[0m\n\u001b[0;32m----> 1\u001b[0m \u001b[43mhypercube\u001b[49m\u001b[38;5;241;43m.\u001b[39;49m\u001b[43mcheck_header\u001b[49m\u001b[43m(\u001b[49m\u001b[43m)\u001b[49m\n",
      "File \u001b[0;32m~/development/pynbody/.venv/lib/python3.12/site-packages/galpak/hyperspectral_cube.py:901\u001b[0m, in \u001b[0;36mHyperspectralCube.check_header\u001b[0;34m(self)\u001b[0m\n\u001b[1;32m    899\u001b[0m value \u001b[38;5;241m=\u001b[39m \u001b[38;5;28mself\u001b[39m\u001b[38;5;241m.\u001b[39mheader\u001b[38;5;241m.\u001b[39mget(card)\n\u001b[1;32m    900\u001b[0m \u001b[38;5;28;01mif\u001b[39;00m value \u001b[38;5;129;01mis\u001b[39;00m \u001b[38;5;28;01mNone\u001b[39;00m:\n\u001b[0;32m--> 901\u001b[0m     \u001b[38;5;28;01mraise\u001b[39;00m \u001b[38;5;167;01mAttributeError\u001b[39;00m(\u001b[38;5;124m\"\u001b[39m\u001b[38;5;124mHeader\u001b[39m\u001b[38;5;124m'\u001b[39m\u001b[38;5;124ms \u001b[39m\u001b[38;5;124m'\u001b[39m\u001b[38;5;132;01m%s\u001b[39;00m\u001b[38;5;124m'\u001b[39m\u001b[38;5;124m card is missing, but required for this operation.\u001b[39m\u001b[38;5;124m\"\u001b[39m, card)\n",
      "\u001b[0;31mAttributeError\u001b[0m: (\"Header's '%s' card is missing, but required for this operation.\", 'CUNIT3CDELT3')"
     ]
    }
   ],
   "source": [
    "hypercube."
   ]
  },
  {
   "cell_type": "code",
   "execution_count": 219,
   "metadata": {},
   "outputs": [],
   "source": [
    "df = pd.DataFrame(pc)\n",
    "df.columns = [\"x\", \"y\", \"z\", \"intensity\"]"
   ]
  },
  {
   "cell_type": "code",
   "execution_count": 220,
   "metadata": {},
   "outputs": [
    {
     "data": {
      "text/html": [
       "<div>\n",
       "<style scoped>\n",
       "    .dataframe tbody tr th:only-of-type {\n",
       "        vertical-align: middle;\n",
       "    }\n",
       "\n",
       "    .dataframe tbody tr th {\n",
       "        vertical-align: top;\n",
       "    }\n",
       "\n",
       "    .dataframe thead th {\n",
       "        text-align: right;\n",
       "    }\n",
       "</style>\n",
       "<table border=\"1\" class=\"dataframe\">\n",
       "  <thead>\n",
       "    <tr style=\"text-align: right;\">\n",
       "      <th></th>\n",
       "      <th>x</th>\n",
       "      <th>y</th>\n",
       "      <th>z</th>\n",
       "      <th>intensity</th>\n",
       "    </tr>\n",
       "  </thead>\n",
       "  <tbody>\n",
       "    <tr>\n",
       "      <th>0</th>\n",
       "      <td>62.5</td>\n",
       "      <td>0.5</td>\n",
       "      <td>0.0</td>\n",
       "      <td>0.001111</td>\n",
       "    </tr>\n",
       "    <tr>\n",
       "      <th>1</th>\n",
       "      <td>62.0</td>\n",
       "      <td>1.0</td>\n",
       "      <td>0.0</td>\n",
       "      <td>0.001177</td>\n",
       "    </tr>\n",
       "    <tr>\n",
       "      <th>2</th>\n",
       "      <td>62.5</td>\n",
       "      <td>1.0</td>\n",
       "      <td>0.0</td>\n",
       "      <td>0.001201</td>\n",
       "    </tr>\n",
       "    <tr>\n",
       "      <th>3</th>\n",
       "      <td>62.0</td>\n",
       "      <td>1.5</td>\n",
       "      <td>0.0</td>\n",
       "      <td>0.001197</td>\n",
       "    </tr>\n",
       "    <tr>\n",
       "      <th>4</th>\n",
       "      <td>62.5</td>\n",
       "      <td>1.5</td>\n",
       "      <td>0.0</td>\n",
       "      <td>0.001057</td>\n",
       "    </tr>\n",
       "    <tr>\n",
       "      <th>...</th>\n",
       "      <td>...</td>\n",
       "      <td>...</td>\n",
       "      <td>...</td>\n",
       "      <td>...</td>\n",
       "    </tr>\n",
       "    <tr>\n",
       "      <th>193490</th>\n",
       "      <td>56.5</td>\n",
       "      <td>73.0</td>\n",
       "      <td>61.0</td>\n",
       "      <td>0.001075</td>\n",
       "    </tr>\n",
       "    <tr>\n",
       "      <th>193491</th>\n",
       "      <td>56.0</td>\n",
       "      <td>73.5</td>\n",
       "      <td>61.0</td>\n",
       "      <td>0.001278</td>\n",
       "    </tr>\n",
       "    <tr>\n",
       "      <th>193492</th>\n",
       "      <td>56.5</td>\n",
       "      <td>73.5</td>\n",
       "      <td>61.0</td>\n",
       "      <td>0.001376</td>\n",
       "    </tr>\n",
       "    <tr>\n",
       "      <th>193493</th>\n",
       "      <td>56.0</td>\n",
       "      <td>74.0</td>\n",
       "      <td>61.0</td>\n",
       "      <td>0.001174</td>\n",
       "    </tr>\n",
       "    <tr>\n",
       "      <th>193494</th>\n",
       "      <td>56.5</td>\n",
       "      <td>74.0</td>\n",
       "      <td>61.0</td>\n",
       "      <td>0.001309</td>\n",
       "    </tr>\n",
       "  </tbody>\n",
       "</table>\n",
       "<p>193495 rows × 4 columns</p>\n",
       "</div>"
      ],
      "text/plain": [
       "           x     y     z  intensity\n",
       "0       62.5   0.5   0.0   0.001111\n",
       "1       62.0   1.0   0.0   0.001177\n",
       "2       62.5   1.0   0.0   0.001201\n",
       "3       62.0   1.5   0.0   0.001197\n",
       "4       62.5   1.5   0.0   0.001057\n",
       "...      ...   ...   ...        ...\n",
       "193490  56.5  73.0  61.0   0.001075\n",
       "193491  56.0  73.5  61.0   0.001278\n",
       "193492  56.5  73.5  61.0   0.001376\n",
       "193493  56.0  74.0  61.0   0.001174\n",
       "193494  56.5  74.0  61.0   0.001309\n",
       "\n",
       "[193495 rows x 4 columns]"
      ]
     },
     "execution_count": 220,
     "metadata": {},
     "output_type": "execute_result"
    }
   ],
   "source": [
    "df"
   ]
  },
  {
   "cell_type": "code",
   "execution_count": 221,
   "metadata": {},
   "outputs": [],
   "source": [
    "pcd = o3d.geometry.PointCloud()\n",
    "pcd.points = o3d.utility.Vector3dVector(df.iloc[:,:3].values.tolist())"
   ]
  },
  {
   "cell_type": "code",
   "execution_count": 222,
   "metadata": {},
   "outputs": [],
   "source": [
    "intensity = df['intensity'].values*100\n",
    "volume_normalized = (intensity - intensity.min()) / (intensity.max() - intensity.min())\n",
    "colors = plt.cm.plasma(intensity)[:, :3]  # Use a colormap (e.g., viridis)\n",
    "pcd.colors = o3d.utility.Vector3dVector(colors)"
   ]
  },
  {
   "cell_type": "code",
   "execution_count": 223,
   "metadata": {},
   "outputs": [
    {
     "name": "stderr",
     "output_type": "stream",
     "text": [
      "MESA: error: ZINK: failed to choose pdev\n",
      "glx: failed to create drisw screen\n"
     ]
    }
   ],
   "source": [
    "o3d.visualization.draw_geometries([pcd])"
   ]
  }
 ],
 "metadata": {
  "kernelspec": {
   "display_name": ".venv",
   "language": "python",
   "name": "python3"
  },
  "language_info": {
   "codemirror_mode": {
    "name": "ipython",
    "version": 3
   },
   "file_extension": ".py",
   "mimetype": "text/x-python",
   "name": "python",
   "nbconvert_exporter": "python",
   "pygments_lexer": "ipython3",
   "version": "3.12.3"
  }
 },
 "nbformat": 4,
 "nbformat_minor": 2
}
